{
 "cells": [
  {
   "cell_type": "code",
   "execution_count": 1,
   "id": "66c12a99-b3e0-4baa-b57f-075153f26b67",
   "metadata": {},
   "outputs": [
    {
     "name": "stdout",
     "output_type": "stream",
     "text": [
      " 01-10-2022-class.ipynb                   'file handling.ipynb'\n",
      " 08-10-2022.ipynb                          funbction2.ipynb\n",
      " 09-10-2022.ipynb                          function1.ipynb\n",
      "'13th Nov(function continued (4)).ipynb'  'Function assignment.ipynb'\n",
      " 24-09-2022.ipynb                          questions.ipynb\n",
      " 25-09-2022.ipynb                          shahabas\n",
      " 29-10-2022-Fuction.ipynb                  sring.ipynb\n",
      "'Control Statements.ipynb'                'task1 answer.ipynb'\n",
      " demo_006.ipynb                           'task questions part 2.ipynb'\n",
      "'exception handling.ipynb'\n"
     ]
    }
   ],
   "source": [
    "ls"
   ]
  },
  {
   "cell_type": "code",
   "execution_count": 2,
   "id": "a2df31c4-deaf-443f-b632-8c749fe694cb",
   "metadata": {},
   "outputs": [
    {
     "data": {
      "text/plain": [
       "'/home/jovyan/work/Python'"
      ]
     },
     "execution_count": 2,
     "metadata": {},
     "output_type": "execute_result"
    }
   ],
   "source": [
    "pwd()"
   ]
  },
  {
   "cell_type": "code",
   "execution_count": 3,
   "id": "4cf5a0c8-3c83-42b8-b61d-200ef9bf8f11",
   "metadata": {},
   "outputs": [],
   "source": [
    "f=open('shahabas')"
   ]
  },
  {
   "cell_type": "code",
   "execution_count": 4,
   "id": "b6ecf7f0-f46a-47ee-9162-5f1dda3384a1",
   "metadata": {},
   "outputs": [
    {
     "data": {
      "text/plain": [
       "_io.TextIOWrapper"
      ]
     },
     "execution_count": 4,
     "metadata": {},
     "output_type": "execute_result"
    }
   ],
   "source": [
    "type(f)"
   ]
  },
  {
   "cell_type": "code",
   "execution_count": 5,
   "id": "1e0f392b-deb5-4e22-a413-f8114c75ae29",
   "metadata": {},
   "outputs": [],
   "source": [
    "f.close()"
   ]
  },
  {
   "cell_type": "code",
   "execution_count": 12,
   "id": "1a82c6b7-8233-4fd4-acc3-a4d5eafb73ea",
   "metadata": {},
   "outputs": [],
   "source": [
    "f=open('shahabas')"
   ]
  },
  {
   "cell_type": "code",
   "execution_count": 7,
   "id": "5b2fa6fd-c051-402f-8551-25a204480685",
   "metadata": {},
   "outputs": [
    {
     "data": {
      "text/plain": [
       "'Hi this is shahabas how are you\\nim fine \\nineuron\\nfirst line\\nsecond line\\n'"
      ]
     },
     "execution_count": 7,
     "metadata": {},
     "output_type": "execute_result"
    }
   ],
   "source": [
    "f.read()"
   ]
  },
  {
   "cell_type": "code",
   "execution_count": 10,
   "id": "a1717bed-b1c8-4685-b0ea-34fc5496169b",
   "metadata": {},
   "outputs": [
    {
     "data": {
      "text/plain": [
       "'Hi this is shahabas how are you\\nim fine \\nineuron\\nfirst line\\nsecond line\\n'"
      ]
     },
     "execution_count": 10,
     "metadata": {},
     "output_type": "execute_result"
    }
   ],
   "source": [
    "f.read()"
   ]
  },
  {
   "cell_type": "code",
   "execution_count": 36,
   "id": "e006040e-78fa-43f3-bcb1-8391eb1f00d2",
   "metadata": {},
   "outputs": [
    {
     "data": {
      "text/plain": [
       "''"
      ]
     },
     "execution_count": 36,
     "metadata": {},
     "output_type": "execute_result"
    }
   ],
   "source": [
    "f.read(5)"
   ]
  },
  {
   "cell_type": "code",
   "execution_count": 16,
   "id": "e714a8ad-bf20-4a0b-9fb6-e06441e5f729",
   "metadata": {},
   "outputs": [
    {
     "data": {
      "text/plain": [
       "10"
      ]
     },
     "execution_count": 16,
     "metadata": {},
     "output_type": "execute_result"
    }
   ],
   "source": [
    "f.tell()"
   ]
  },
  {
   "cell_type": "code",
   "execution_count": 40,
   "id": "7717deeb-7552-421a-a950-59322d454d83",
   "metadata": {},
   "outputs": [
    {
     "data": {
      "text/plain": [
       "0"
      ]
     },
     "execution_count": 40,
     "metadata": {},
     "output_type": "execute_result"
    }
   ],
   "source": [
    "f.seek(0)"
   ]
  },
  {
   "cell_type": "code",
   "execution_count": 38,
   "id": "ab5a7355-dfd3-424f-aece-b60c30a48adf",
   "metadata": {},
   "outputs": [
    {
     "data": {
      "text/plain": [
       "'Hi this is shahabas how are you\\nim fine \\nineuron\\nfirst line\\nsecond line\\n'"
      ]
     },
     "execution_count": 38,
     "metadata": {},
     "output_type": "execute_result"
    }
   ],
   "source": [
    "f.read()"
   ]
  },
  {
   "cell_type": "code",
   "execution_count": 41,
   "id": "803473d1-2d16-45fd-8d65-ec770f778610",
   "metadata": {},
   "outputs": [
    {
     "data": {
      "text/plain": [
       "['Hi this is shahabas how are you\\n',\n",
       " 'im fine \\n',\n",
       " 'ineuron\\n',\n",
       " 'first line\\n',\n",
       " 'second line\\n']"
      ]
     },
     "execution_count": 41,
     "metadata": {},
     "output_type": "execute_result"
    }
   ],
   "source": [
    "f.readlines()"
   ]
  },
  {
   "cell_type": "code",
   "execution_count": 44,
   "id": "cdd1c703-a439-43dd-ac15-759d14963d46",
   "metadata": {},
   "outputs": [],
   "source": [
    "with open('shahabas') as f:\n",
    "    f.readlines()\n",
    "    pass"
   ]
  },
  {
   "cell_type": "code",
   "execution_count": 45,
   "id": "1ba99fe5-791f-42d3-8727-56e8ba039a9c",
   "metadata": {},
   "outputs": [],
   "source": [
    "f=open(\"test1.txt\",\"w\")\n",
    "f.write(\"ineuron\")\n",
    "f.close()"
   ]
  },
  {
   "cell_type": "code",
   "execution_count": 46,
   "id": "dda00acb-b6e1-42dc-9b75-8843b257e75b",
   "metadata": {},
   "outputs": [
    {
     "data": {
      "text/plain": [
       "'ineuron'"
      ]
     },
     "execution_count": 46,
     "metadata": {},
     "output_type": "execute_result"
    }
   ],
   "source": [
    "f=open(\"test1.txt\")\n",
    "f.read()"
   ]
  },
  {
   "cell_type": "code",
   "execution_count": 47,
   "id": "e1a262ed-d847-4ad6-ab96-dbdf27624228",
   "metadata": {},
   "outputs": [],
   "source": [
    "f.close()"
   ]
  },
  {
   "cell_type": "code",
   "execution_count": 2,
   "id": "b63df8f9-1269-4365-9359-093f2e180276",
   "metadata": {},
   "outputs": [],
   "source": [
    "with open(\"shahabas\") as f:\n",
    "    f.read()\n",
    "    pass"
   ]
  },
  {
   "cell_type": "code",
   "execution_count": 5,
   "id": "1351571a-3901-4523-969c-44222e29aa77",
   "metadata": {},
   "outputs": [
    {
     "name": "stdout",
     "output_type": "stream",
     "text": [
      "ineuron\n"
     ]
    }
   ],
   "source": [
    "f=open(\"test1.txt\",\"r\")\n",
    "print(f.read())\n",
    "f.close()"
   ]
  },
  {
   "cell_type": "code",
   "execution_count": 11,
   "id": "ea3d4404-4623-4c37-8b37-bf1b0c84f209",
   "metadata": {},
   "outputs": [],
   "source": [
    "with open (\"test2.txt\",\"w\") as f:\n",
    "    f.write(\"first line\\n\")\n",
    "    f.write(\"second line\\n\")"
   ]
  },
  {
   "cell_type": "code",
   "execution_count": 13,
   "id": "26294991-72ab-421b-984e-721f00ee6c25",
   "metadata": {},
   "outputs": [
    {
     "name": "stdout",
     "output_type": "stream",
     "text": [
      "first line\n",
      "second line\n",
      "\n"
     ]
    }
   ],
   "source": [
    "d=open(\"test2.txt\",\"r\")\n",
    "print(d.read())"
   ]
  },
  {
   "cell_type": "code",
   "execution_count": 14,
   "id": "a592ddb4-3446-4577-bfd9-e25b4dca99f7",
   "metadata": {},
   "outputs": [],
   "source": [
    "d.close()"
   ]
  },
  {
   "cell_type": "code",
   "execution_count": 22,
   "id": "00924f21-f9d7-42c6-834e-1b2c111e8d17",
   "metadata": {},
   "outputs": [
    {
     "name": "stdout",
     "output_type": "stream",
     "text": [
      "first line\n",
      "second line\n",
      "\n",
      "0\n"
     ]
    }
   ],
   "source": [
    "try:\n",
    "    with open(\"test2.txt\",\"r\") as f:\n",
    "        print(f.read())\n",
    "        print(len(f.readlines()))\n",
    "    \n",
    "except FileNotFoundError as e:\n",
    "    print(e)\n",
    "    "
   ]
  },
  {
   "cell_type": "code",
   "execution_count": 23,
   "id": "5b53c630-baeb-4e8e-b927-08ae2aa8ebed",
   "metadata": {},
   "outputs": [],
   "source": [
    "#yield\n",
    "#iter\n",
    "#next"
   ]
  },
  {
   "cell_type": "code",
   "execution_count": null,
   "id": "d584bdc3-6250-401c-a2e7-6f9ced8864ad",
   "metadata": {},
   "outputs": [],
   "source": []
  }
 ],
 "metadata": {
  "kernelspec": {
   "display_name": "Python 3 (ipykernel)",
   "language": "python",
   "name": "python3"
  },
  "language_info": {
   "codemirror_mode": {
    "name": "ipython",
    "version": 3
   },
   "file_extension": ".py",
   "mimetype": "text/x-python",
   "name": "python",
   "nbconvert_exporter": "python",
   "pygments_lexer": "ipython3",
   "version": "3.10.6"
  }
 },
 "nbformat": 4,
 "nbformat_minor": 5
}
