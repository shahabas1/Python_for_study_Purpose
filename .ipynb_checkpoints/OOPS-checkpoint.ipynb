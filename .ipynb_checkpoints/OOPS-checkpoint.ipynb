{
 "cells": [
  {
   "cell_type": "code",
   "execution_count": 14,
   "id": "eae40b57",
   "metadata": {},
   "outputs": [],
   "source": [
    "class Circle:\n",
    "    def __init__(self,radius):\n",
    "        self.radius=radius\n",
    "        \n",
    "    def area(self):\n",
    "        x=3.14*(self.radius)**2\n",
    "        return x\n",
    "    def per(self):\n",
    "        y=2*3.14*self.radius\n",
    "        return y"
   ]
  },
  {
   "cell_type": "code",
   "execution_count": 15,
   "id": "8895cd22",
   "metadata": {},
   "outputs": [],
   "source": [
    "c1=Circle(5)"
   ]
  },
  {
   "cell_type": "code",
   "execution_count": 16,
   "id": "4735e5b3",
   "metadata": {},
   "outputs": [
    {
     "data": {
      "text/plain": [
       "31.400000000000002"
      ]
     },
     "execution_count": 16,
     "metadata": {},
     "output_type": "execute_result"
    }
   ],
   "source": [
    "c1.per()"
   ]
  },
  {
   "cell_type": "code",
   "execution_count": 17,
   "id": "348c4334",
   "metadata": {},
   "outputs": [
    {
     "data": {
      "text/plain": [
       "78.5"
      ]
     },
     "execution_count": 17,
     "metadata": {},
     "output_type": "execute_result"
    }
   ],
   "source": [
    "c1.area()"
   ]
  },
  {
   "cell_type": "code",
   "execution_count": 18,
   "id": "37f38792",
   "metadata": {},
   "outputs": [],
   "source": [
    "class Bankaccount:\n",
    "    \n",
    "    #properties\n",
    "    def __init__(self,name,accnt_number,balance):\n",
    "        self.name=name\n",
    "        self.accnt_number=accnt_number\n",
    "        self.balance=balance\n",
    "    \n",
    "    \n",
    "    #method or function\n",
    "    def deposit(self,depo_amnt):\n",
    "        self.depo_amnt=depo_amnt\n",
    "        self.balance=self.balance+self.depo_amnt\n",
    "        print(f\"your bank account credited {self.depo_amnt} amount and your balance is {self.balance}\")\n",
    "        \n",
    "    def withdraw(self,w_amnt):\n",
    "        self.w_amnt=w_amnt\n",
    "        self.balance=self.balance-self.w_amnt\n",
    "        print(f\"your bank account debited {self.w_amnt} amount and your balance is {self.balance}\")\n",
    "        \n",
    "    def account_details(self):\n",
    "        print(f\"your name is {self.name}\")\n",
    "        print(f\"your account number is {self.accnt_number}\")\n",
    "        print(f\"your balance is {self.balance}\")"
   ]
  },
  {
   "cell_type": "code",
   "execution_count": 19,
   "id": "bd0cafa2",
   "metadata": {},
   "outputs": [],
   "source": [
    "p1=Bankaccount(\"shahabas\",1234,23500)"
   ]
  },
  {
   "cell_type": "code",
   "execution_count": 20,
   "id": "096c585f",
   "metadata": {},
   "outputs": [
    {
     "name": "stdout",
     "output_type": "stream",
     "text": [
      "your bank account debited 2500 amount and your balance is 21000\n"
     ]
    }
   ],
   "source": [
    "p1.withdraw(2500)"
   ]
  },
  {
   "cell_type": "code",
   "execution_count": 21,
   "id": "861a2eae",
   "metadata": {},
   "outputs": [
    {
     "name": "stdout",
     "output_type": "stream",
     "text": [
      "your bank account credited 5000 amount and your balance is 26000\n"
     ]
    }
   ],
   "source": [
    "p1.deposit(5000)"
   ]
  },
  {
   "cell_type": "code",
   "execution_count": 22,
   "id": "5e59807d",
   "metadata": {},
   "outputs": [
    {
     "name": "stdout",
     "output_type": "stream",
     "text": [
      "your name is shahabas\n",
      "your account number is 1234\n",
      "your balance is 26000\n"
     ]
    }
   ],
   "source": [
    "p1.account_details()"
   ]
  },
  {
   "cell_type": "code",
   "execution_count": 1,
   "id": "7b830874",
   "metadata": {},
   "outputs": [],
   "source": [
    "class Car:\n",
    "    def __init__(self,milage,color,model,year):\n",
    "        self.milage=milage\n",
    "        self.color=color\n",
    "        self.model=model\n",
    "        self.year=year\n",
    "        \n",
    "    def age(self,current_year):\n",
    "        return current_year-self.year\n",
    "    \n",
    "    def __str__(c):\n",
    "        return \"this is from class car inorder to overwrite the memory location\""
   ]
  },
  {
   "cell_type": "code",
   "execution_count": 2,
   "id": "8dd80b2a",
   "metadata": {},
   "outputs": [],
   "source": [
    "city=Car(19,\"black\",\"ivtec\",2016)"
   ]
  },
  {
   "cell_type": "code",
   "execution_count": 3,
   "id": "270e6528",
   "metadata": {},
   "outputs": [],
   "source": [
    "class Calculator:\n",
    "    \n",
    "    def __init__(self):\n",
    "        self.a=int(input())\n",
    "        self.b=int(input())\n",
    "        \n",
    "    def add(self):\n",
    "        sum=self.a+self.b\n",
    "        return sum\n",
    "    def sub(self):\n",
    "        sub=self.a-self.b\n",
    "        return sub\n",
    "    def div(self):\n",
    "        div=self.a/self.b\n",
    "        return div\n",
    "    def mul(self):\n",
    "        mul=self.a*self.b\n",
    "        return mul\n",
    "    def __str__(self):\n",
    "        return \"this is calculator class\""
   ]
  },
  {
   "cell_type": "code",
   "execution_count": 4,
   "id": "150fd024",
   "metadata": {},
   "outputs": [],
   "source": [
    "class Tyres:\n",
    "    def __init__(self,branch,belted_bias,opt_pressure):\n",
    "        self.branch=branch\n",
    "        self.belted_bias=belted_bias\n",
    "        self.opt_pressure=opt_pressure\n",
    "        \n",
    "    def __str__(self):\n",
    "        return (\"Tyres: \\n \\tBranch\" + self.branch +\n",
    "               \"\\n \\t Belted-bias\" + str(self.belted_bias) +\n",
    "               \"\\n \\t optimal pressure\" + str(self.opt_pressure))\n",
    "    \n",
    "class Engine:\n",
    "    def __init__(self,fuel_type,noise_level):\n",
    "        self.fuel_type=fuel_type\n",
    "        self.noise_level=noise_level\n",
    "        \n",
    "    def __str__(self):\n",
    "        return (\"Engine: \\n \\tFuel type\" + self.fuel_type +\n",
    "               \"\\n \\t Noise level:\" + str(self.noise_level))\n",
    "    \n",
    "class Body:\n",
    "    \n",
    "    def __init__(self,size):\n",
    "        self.size=size\n",
    "        \n",
    "    def __str__(self):\n",
    "        return (\"Body:\\n \\t size\" + self.size)\n",
    "    \n",
    "\n",
    "class Car:\n",
    "    \n",
    "    def __init__(self,tyres,engine,body):\n",
    "        \n",
    "        self.tyres=tyres\n",
    "        self.engine=engine\n",
    "        self.body=body\n",
    "        \n",
    "    def __str__(self):\n",
    "        return (str(self.tyres) + \"\\n\" + str(self.engine) + \"\\n\" + str(self.body))"
   ]
  },
  {
   "cell_type": "code",
   "execution_count": 5,
   "id": "fc7b4345",
   "metadata": {},
   "outputs": [],
   "source": [
    "t=Tyres('banaglore',True,2.0)\n",
    "e=Engine('Desel',3)\n",
    "b=Body('Medium')"
   ]
  },
  {
   "cell_type": "code",
   "execution_count": 6,
   "id": "2d16aa4b",
   "metadata": {},
   "outputs": [
    {
     "name": "stdout",
     "output_type": "stream",
     "text": [
      "Tyres: \n",
      " \tBranchbanaglore\n",
      " \t Belted-biasTrue\n",
      " \t optimal pressure2.0\n",
      "Engine: \n",
      " \tFuel typeDesel\n",
      " \t Noise level:3\n",
      "Body:\n",
      " \t sizeMedium\n"
     ]
    }
   ],
   "source": [
    "c=Car(t,e,b)\n",
    "print(c)"
   ]
  },
  {
   "cell_type": "code",
   "execution_count": null,
   "id": "714705f9",
   "metadata": {},
   "outputs": [],
   "source": [
    "public\n",
    "private \n",
    "protected\n",
    "non parmetric"
   ]
  },
  {
   "cell_type": "code",
   "execution_count": null,
   "id": "de33053e",
   "metadata": {},
   "outputs": [],
   "source": [
    "1. Write a class called BankAccount that has the following:\n",
    "        • A field called name that stores the name of the account holder.\n",
    "        • A field called amount that stores the amount of money in the account.\n",
    "        • A field called interest_rate that stores the account’s interest rate (as a percentage).\n",
    "        • A constructor that just sets the values of the three fields above.\n",
    "        • A method called apply_interest() that takes no arguments and applies the interest to the\n",
    "        account. It should just modify the amount field and not return anything. For instance, if the\n",
    "        account has $1000 in it and the interest rate is 3%, then the amount variable should be changed\n",
    "        to $1030 ($1000 + 3% interest).\n",
    "        Then test the class, by creating a new BankAccount object for a user named Juan De Hattatime who\n",
    "        has $1000 at 3% interest. Then do the following:\n",
    "        • Use the apply_interest() method to apply the interest to the account.\n",
    "        • Print out how much money is now in the account after applying the interest.\n",
    "        • Change the account’s interest rate to 2%.\n",
    "        • Use the apply_interest() method to apply the interest to the account again.\n",
    "        • Print out how much money is now in the account after applying the interest again.\n",
    "        \n",
    " ----------------------------------------------------------------------------------------------------------------------------------------------------------------\n",
    " \n",
    " \n",
    " 2. Write a class called Item that represents an item for sale. It should have the following:\n",
    "      • Fields representing the name and price of the item\n",
    "      • A constructor that sets those fields,\n",
    "      • A __str__() method that returns a string containing the item name and price, with the price\n",
    "      formatted to exactly 2 decimal places\n",
    "      Test the class by creating a new item object and printing it out\n",
    "      \n",
    "      \n",
    "-----------------------------------------------------------------------------------------------------------------------------------------------------------------\n",
    "\n",
    "\n",
    "3. Write a class called ShoppingCart that might be used in an online store. It should have the following:\n",
    "      • A list of Item objects that represents the items in the shopping cart\n",
    "      • A constructor that creates an empty list of items (the constructor should take no arguments ex\u0002cept self)\n",
    "      • A method called add() that takes a name and a price and adds an Item object with that name\n",
    "      and price to the shopping cart\n",
    "      • A method called total() that takes no arguments and returns the total cost of the items in the\n",
    "      cart\n",
    "      34\n",
    "      • A method called remove_items() that takes an item name (a string) and removes any Item\n",
    "      objects with that name from the shopping cart. It shouldn’t return anything.\n",
    "      • A __str__() method that returns a string containing info on all the items in the shopping cart\n",
    "      Then test out the shopping cart as follows: (1) create a shopping cart; (2) add several items to it; (3)\n",
    "      print the cart’s total cost (using the total() method); (4) remove one of the items types; (5) print out\n",
    "      the cart\n",
    "      \n",
    "----------------------------------------------------------------------------------------------------------------------------------------------------------------\n",
    "\n",
    "4. Write a class called RestaurantCheck. It should have the following:\n",
    "      • Fields called check_number, sales_tax_percent, subtotal, table_number, and server_name\n",
    "      representing an identification for the check, the bill without tax added, the sales tax percentage,\n",
    "      the table number, and the name of the server.\n",
    "      • A constructor that sets the values of all four fields\n",
    "      • A method called calculate_total that takes no arguments (besides self) and returns the total\n",
    "      bill including sales tax.\n",
    "      • A method called print_check that writes to a file called check###.txt, where ### is the check\n",
    "      number and writes information about the check to that file, formatted like below:\n",
    "      Check Number: 443\n",
    "      Sales tax: 6.0%\n",
    "      Subtotal: $23.14\n",
    "      Total: $24.53\n",
    "      Table Number: 17\n",
    "      Server: Sonic the Hedgehog\n",
    "      Test the class by creating a RestaurantCheck object and calling the print_check() method\n",
    "      \n",
    "      \n",
    "      -----------------------------------------------------------------------------------------------------------------------------------------------------\n",
    "      \n",
    "      \n",
    "      \n",
    "5. Write a class called Ticket that has the following:\n",
    "      • A field cost for the price of the ticket and a string field time for the start time of the event\n",
    "      (assume times are in 24-hour format, like '18:35')\n",
    "      • A constructor that sets those variables\n",
    "      • A __str__() method that returns a string of the form Ticket(<cost>, <time>), where\n",
    "      <cost> and <time> are replaced with the values of the cost and time fields.\n",
    "      • A method called is_evening_time() that returns True or False, depending on whether the\n",
    "      time falls in the range from 18:00 to 23:59.\n",
    "      • A method called bulk_discount() that takes an integer n and returns the discount for buying n\n",
    "      tickets. There should be a 10% discount for buying 5 to 9 tickets, and a 20% discount for buying\n",
    "      10 or more. Otherwise, there is no discount. Return these percentages as integers.\n",
    "      Test the class by creating a Ticket item, printing it, calling the is_evening_time() method, and\n",
    "      calling the bulk_discount() method"
   ]
  },
  {
   "cell_type": "raw",
   "id": "1875bf13",
   "metadata": {},
   "source": [
    "2. Write a class called Item that represents an item for sale. It should have the following:\n",
    "      • Fields representing the name and price of the item\n",
    "      • A constructor that sets those fields,\n",
    "      • A __str__() method that returns a string containing the item name and price, with the price\n",
    "      formatted to exactly 2 decimal places\n",
    "      Test the class by creating a new item object and printing it out\n",
    "      "
   ]
  },
  {
   "cell_type": "code",
   "execution_count": 14,
   "id": "42f84c45",
   "metadata": {},
   "outputs": [],
   "source": [
    "class Item:\n",
    "    def __init__(self,name,price):\n",
    "        self.name=name\n",
    "        self.price=price\n",
    "        \n",
    "    def __str__(self):\n",
    "        return(self.name +\" : \"+ str(round(self.price,2)))"
   ]
  },
  {
   "cell_type": "code",
   "execution_count": 15,
   "id": "c9f5d98f",
   "metadata": {},
   "outputs": [],
   "source": [
    "item1=Item(\"oil\",75.9876)"
   ]
  },
  {
   "cell_type": "code",
   "execution_count": 16,
   "id": "2196b293",
   "metadata": {},
   "outputs": [
    {
     "name": "stdout",
     "output_type": "stream",
     "text": [
      "oil : 75.99\n"
     ]
    }
   ],
   "source": [
    "print(item1)"
   ]
  },
  {
   "cell_type": "code",
   "execution_count": null,
   "id": "cd5e4309",
   "metadata": {},
   "outputs": [],
   "source": [
    "3. Write a class called ShoppingCart that might be used in an online store. It should have the following:\n",
    "      • A list of Item objects that represents the items in the shopping cart\n",
    "      • A constructor that creates an empty list of items (the constructor should take no arguments ex\u0002cept self)\n",
    "      • A method called add() that takes a name and a price and adds an Item object with that name\n",
    "      and price to the shopping cart\n",
    "      • A method called total() that takes no arguments and returns the total cost of the items in the\n",
    "      cart\n",
    "      34\n",
    "      • A method called remove_items() that takes an item name (a string) and removes any Item\n",
    "      objects with that name from the shopping cart. It shouldn’t return anything.\n",
    "      • A __str__() method that returns a string containing info on all the items in the shopping cart\n",
    "      Then test out the shopping cart as follows: (1) create a shopping cart; (2) add several items to it; (3)\n",
    "      print the cart’s total cost (using the total() method); (4) remove one of the items types; (5) print out\n",
    "      the cart\n",
    "      "
   ]
  },
  {
   "cell_type": "code",
   "execution_count": 87,
   "id": "cf4c0bef",
   "metadata": {},
   "outputs": [],
   "source": [
    "class ShoppingCart:\n",
    "    def __init__(self):\n",
    "        self.empty_list=list()\n",
    "        \n",
    "    def add(self,n):\n",
    "        for i in range(1,n+1):\n",
    "            item=input()\n",
    "            price=float(input())\n",
    "            self.empty_list.append((item,price))\n",
    "        \n",
    "    def total(self):\n",
    "        b=0\n",
    "        for i in range(len(self.empty_list)):\n",
    "            b=b+self.empty_list[i][1]\n",
    "        return \"the total amount is \",b\n",
    "    \n",
    "    def remove_item(self,obj):\n",
    "        for i in range(len(self.empty_list)):\n",
    "            try:\n",
    "                if obj in self.empty_list[i][0]:\n",
    "                    self.empty_list.pop(i)\n",
    "            except Exception as e:\n",
    "                print(\"there is no item you entered \", e)\n",
    "            \n",
    "    def __str__(self):\n",
    "        \n",
    "        return(f\"your cart is here: ,{str(self.empty_list)}\")\n",
    "                "
   ]
  },
  {
   "cell_type": "code",
   "execution_count": 88,
   "id": "abaf0e98",
   "metadata": {},
   "outputs": [],
   "source": [
    "sw=ShoppingCart()"
   ]
  },
  {
   "cell_type": "code",
   "execution_count": 89,
   "id": "8bbe0016",
   "metadata": {},
   "outputs": [
    {
     "name": "stdout",
     "output_type": "stream",
     "text": [
      "oil\n",
      "57\n",
      "soap\n",
      "67\n",
      "rice\n",
      "80\n",
      "book\n",
      "90\n",
      "meat\n",
      "89\n"
     ]
    }
   ],
   "source": [
    "sw.add(5)"
   ]
  },
  {
   "cell_type": "code",
   "execution_count": 90,
   "id": "8d8870ae",
   "metadata": {},
   "outputs": [
    {
     "data": {
      "text/plain": [
       "('the total amount is ', 383.0)"
      ]
     },
     "execution_count": 90,
     "metadata": {},
     "output_type": "execute_result"
    }
   ],
   "source": [
    "sw.total()"
   ]
  },
  {
   "cell_type": "code",
   "execution_count": 91,
   "id": "cfeb48a3",
   "metadata": {},
   "outputs": [
    {
     "name": "stdout",
     "output_type": "stream",
     "text": [
      "there is no item you entered  list index out of range\n"
     ]
    }
   ],
   "source": [
    "sw.remove_item(\"rice\")"
   ]
  },
  {
   "cell_type": "code",
   "execution_count": 92,
   "id": "6d186489",
   "metadata": {},
   "outputs": [
    {
     "name": "stdout",
     "output_type": "stream",
     "text": [
      "your cart is here: ,[('oil', 57.0), ('soap', 67.0), ('book', 90.0), ('meat', 89.0)]\n"
     ]
    }
   ],
   "source": [
    "print(sw)"
   ]
  },
  {
   "cell_type": "code",
   "execution_count": 2,
   "id": "c8fdfd33",
   "metadata": {},
   "outputs": [],
   "source": [
    "class Person:\n",
    "    def name(self):\n",
    "        return \"person name is shahabas\"\n",
    "    \n",
    "class Comapany:\n",
    "    def cmpn_name(self):\n",
    "        return \"company name is jidoka technologies\"\n",
    "    \n",
    "class Employee(Person,Comapany):\n",
    "    def emp(self):\n",
    "        return \"he is an employee for this company\""
   ]
  },
  {
   "cell_type": "code",
   "execution_count": 3,
   "id": "dffbeafe",
   "metadata": {},
   "outputs": [],
   "source": [
    "e1=Employee()"
   ]
  },
  {
   "cell_type": "code",
   "execution_count": 4,
   "id": "13cb26d7",
   "metadata": {},
   "outputs": [
    {
     "data": {
      "text/plain": [
       "'company name is jidoka technologies'"
      ]
     },
     "execution_count": 4,
     "metadata": {},
     "output_type": "execute_result"
    }
   ],
   "source": [
    "e1.cmpn_name()"
   ]
  },
  {
   "cell_type": "code",
   "execution_count": 5,
   "id": "4039890a",
   "metadata": {},
   "outputs": [],
   "source": [
    "class Phones:\n",
    "    def __init__(self,brand,model,price):\n",
    "        self.brand=brand\n",
    "        self.model=model\n",
    "        self.price=price\n",
    "        \n",
    "    def specs(self):\n",
    "        return (\"brand\",self.brand,\"price\", self.price)\n",
    "    \n",
    "    def typeofphone(self):\n",
    "        if self.price > 25000:\n",
    "            return 'This is a Budget phone'\n",
    "        else:\n",
    "            return 'this is mid range phone'\n",
    "        \n",
    "\n",
    "        \n",
    "class Smartphone(Phones):\n",
    "    def __init__(self,brand,model,price,ram,storage):\n",
    "        super().__init__(brand,model,price)\n",
    "        self.ram=ram\n",
    "        self.storage=storage\n",
    "        \n",
    "    \n",
    "\n",
    "class Flashipphone(Smartphone):\n",
    "    def __init__(self,brand,model,price,ram,storage, frontcamera,backcamera, display):\n",
    "        super().__init__(brand,model,price,ram,storage)\n",
    "        self.frontcamera=frontcamera\n",
    "        self.backcamera=backcamera\n",
    "        self.display=display"
   ]
  },
  {
   "cell_type": "code",
   "execution_count": 6,
   "id": "dd93bcfa",
   "metadata": {},
   "outputs": [],
   "source": [
    "class Company:\n",
    "    def company_name(self):\n",
    "        return 'ineuron'\n",
    "    \n",
    "\n",
    "class Employee(Company):\n",
    "    def info(self):\n",
    "        c_name= super().company_name()\n",
    "        print(\"i work at\", c_name)"
   ]
  },
  {
   "cell_type": "raw",
   "id": "bd8e223c",
   "metadata": {},
   "source": [
    "4. Write a class called RestaurantCheck. It should have the following:\n",
    "      • Fields called check_number, sales_tax_percent, subtotal, table_number, and server_name\n",
    "      representing an identification for the check, the bill without tax added, the sales tax percentage,\n",
    "      the table number, and the name of the server.\n",
    "      • A constructor that sets the values of all four fields\n",
    "      • A method called calculate_total that takes no arguments (besides self) and returns the total\n",
    "      bill including sales tax.\n",
    "      • A method called print_check that writes to a file called check###.txt, where ### is the check\n",
    "      number and writes information about the check to that file, formatted like below:\n",
    "      Check Number: 443\n",
    "      Sales tax: 6.0%\n",
    "      Subtotal: $23.14\n",
    "      Total: $24.53\n",
    "      Table Number: 17\n",
    "      Server: Sonic the Hedgehog\n",
    "      Test the class by creating a RestaurantCheck object and calling the print_check() method\n",
    "      "
   ]
  },
  {
   "cell_type": "code",
   "execution_count": 30,
   "id": "dbc7ef02",
   "metadata": {},
   "outputs": [],
   "source": [
    "class RestaurantCheck:\n",
    "    \n",
    "    def __init__(self,check_number,sales_tax_percent,subtotal,table_number,server_name):\n",
    "        \n",
    "        self.check_number=check_number\n",
    "        self.sales_tax_percent=sales_tax_percent\n",
    "        self.subtotal=subtotal\n",
    "        self.table_number=table_number\n",
    "        self.server_name=server_name\n",
    "        \n",
    "    def calculate_total(self):\n",
    "        total=self.subtotal+(self.subtotal*self.sales_tax_percent)\n",
    "        return total\n",
    "    \n",
    "    def print_check(self):\n",
    "        f=open(\"check\"+str(self.check_number)+\".txt\",\"w\")\n",
    "        f.write(\"Check Number :\"+str(self.check_number)+\"\\nSales tax :\"+str(self.sales_tax_percent)+\"\\nSubtotal:\"+str(self.subtotal)\n",
    "                +\"\\nTotal:\"+str(self.calculate_total())\n",
    "                +\"\\nTable Number: \"+str(self.table_number)\n",
    "                +\"\\nServer:\"+{self.server_name})\n",
    "        f.close()"
   ]
  },
  {
   "cell_type": "code",
   "execution_count": 10,
   "id": "93e99311",
   "metadata": {},
   "outputs": [
    {
     "data": {
      "text/plain": [
       "'\"check449.txt\"/n\"shahabas\"'"
      ]
     },
     "execution_count": 10,
     "metadata": {},
     "output_type": "execute_result"
    }
   ],
   "source": [
    "'\"check449.txt\"/n\"shahabas\"'"
   ]
  },
  {
   "cell_type": "code",
   "execution_count": 31,
   "id": "0466463c",
   "metadata": {},
   "outputs": [],
   "source": [
    "r1=RestaurantCheck(443,6,23.14,17,\"shahabas\")"
   ]
  },
  {
   "cell_type": "code",
   "execution_count": 32,
   "id": "1c916bff",
   "metadata": {},
   "outputs": [
    {
     "data": {
      "text/plain": [
       "161.98000000000002"
      ]
     },
     "execution_count": 32,
     "metadata": {},
     "output_type": "execute_result"
    }
   ],
   "source": [
    "r1.calculate_total()"
   ]
  },
  {
   "cell_type": "code",
   "execution_count": 33,
   "id": "8364bee1",
   "metadata": {},
   "outputs": [
    {
     "ename": "TypeError",
     "evalue": "can only concatenate str (not \"set\") to str",
     "output_type": "error",
     "traceback": [
      "\u001b[0;31m---------------------------------------------------------------------------\u001b[0m",
      "\u001b[0;31mTypeError\u001b[0m                                 Traceback (most recent call last)",
      "Cell \u001b[0;32mIn [33], line 1\u001b[0m\n\u001b[0;32m----> 1\u001b[0m \u001b[43mr1\u001b[49m\u001b[38;5;241;43m.\u001b[39;49m\u001b[43mprint_check\u001b[49m\u001b[43m(\u001b[49m\u001b[43m)\u001b[49m\n",
      "Cell \u001b[0;32mIn [30], line 17\u001b[0m, in \u001b[0;36mRestaurantCheck.print_check\u001b[0;34m(self)\u001b[0m\n\u001b[1;32m     15\u001b[0m \u001b[38;5;28;01mdef\u001b[39;00m \u001b[38;5;21mprint_check\u001b[39m(\u001b[38;5;28mself\u001b[39m):\n\u001b[1;32m     16\u001b[0m     f\u001b[38;5;241m=\u001b[39m\u001b[38;5;28mopen\u001b[39m(\u001b[38;5;124m\"\u001b[39m\u001b[38;5;124mcheck\u001b[39m\u001b[38;5;124m\"\u001b[39m\u001b[38;5;241m+\u001b[39m\u001b[38;5;28mstr\u001b[39m(\u001b[38;5;28mself\u001b[39m\u001b[38;5;241m.\u001b[39mcheck_number)\u001b[38;5;241m+\u001b[39m\u001b[38;5;124m\"\u001b[39m\u001b[38;5;124m.txt\u001b[39m\u001b[38;5;124m\"\u001b[39m,\u001b[38;5;124m\"\u001b[39m\u001b[38;5;124mw\u001b[39m\u001b[38;5;124m\"\u001b[39m)\n\u001b[0;32m---> 17\u001b[0m     f\u001b[38;5;241m.\u001b[39mwrite(\u001b[38;5;124;43m\"\u001b[39;49m\u001b[38;5;124;43mCheck Number :\u001b[39;49m\u001b[38;5;124;43m\"\u001b[39;49m\u001b[38;5;241;43m+\u001b[39;49m\u001b[38;5;28;43mstr\u001b[39;49m\u001b[43m(\u001b[49m\u001b[38;5;28;43mself\u001b[39;49m\u001b[38;5;241;43m.\u001b[39;49m\u001b[43mcheck_number\u001b[49m\u001b[43m)\u001b[49m\u001b[38;5;241;43m+\u001b[39;49m\u001b[38;5;124;43m\"\u001b[39;49m\u001b[38;5;130;43;01m\\n\u001b[39;49;00m\u001b[38;5;124;43mSales tax :\u001b[39;49m\u001b[38;5;124;43m\"\u001b[39;49m\u001b[38;5;241;43m+\u001b[39;49m\u001b[38;5;28;43mstr\u001b[39;49m\u001b[43m(\u001b[49m\u001b[38;5;28;43mself\u001b[39;49m\u001b[38;5;241;43m.\u001b[39;49m\u001b[43msales_tax_percent\u001b[49m\u001b[43m)\u001b[49m\u001b[38;5;241;43m+\u001b[39;49m\u001b[38;5;124;43m\"\u001b[39;49m\u001b[38;5;130;43;01m\\n\u001b[39;49;00m\u001b[38;5;124;43mSubtotal:\u001b[39;49m\u001b[38;5;124;43m\"\u001b[39;49m\u001b[38;5;241;43m+\u001b[39;49m\u001b[38;5;28;43mstr\u001b[39;49m\u001b[43m(\u001b[49m\u001b[38;5;28;43mself\u001b[39;49m\u001b[38;5;241;43m.\u001b[39;49m\u001b[43msubtotal\u001b[49m\u001b[43m)\u001b[49m\n\u001b[1;32m     18\u001b[0m \u001b[43m            \u001b[49m\u001b[38;5;241;43m+\u001b[39;49m\u001b[38;5;124;43m\"\u001b[39;49m\u001b[38;5;130;43;01m\\n\u001b[39;49;00m\u001b[38;5;124;43mTotal:\u001b[39;49m\u001b[38;5;124;43m\"\u001b[39;49m\u001b[38;5;241;43m+\u001b[39;49m\u001b[38;5;28;43mstr\u001b[39;49m\u001b[43m(\u001b[49m\u001b[38;5;28;43mself\u001b[39;49m\u001b[38;5;241;43m.\u001b[39;49m\u001b[43mcalculate_total\u001b[49m\u001b[43m(\u001b[49m\u001b[43m)\u001b[49m\u001b[43m)\u001b[49m\n\u001b[1;32m     19\u001b[0m \u001b[43m            \u001b[49m\u001b[38;5;241;43m+\u001b[39;49m\u001b[38;5;124;43m\"\u001b[39;49m\u001b[38;5;130;43;01m\\n\u001b[39;49;00m\u001b[38;5;124;43mTable Number: \u001b[39;49m\u001b[38;5;124;43m\"\u001b[39;49m\u001b[38;5;241;43m+\u001b[39;49m\u001b[38;5;28;43mstr\u001b[39;49m\u001b[43m(\u001b[49m\u001b[38;5;28;43mself\u001b[39;49m\u001b[38;5;241;43m.\u001b[39;49m\u001b[43mtable_number\u001b[49m\u001b[43m)\u001b[49m\n\u001b[1;32m     20\u001b[0m \u001b[43m            \u001b[49m\u001b[38;5;241;43m+\u001b[39;49m\u001b[38;5;124;43m\"\u001b[39;49m\u001b[38;5;130;43;01m\\n\u001b[39;49;00m\u001b[38;5;124;43mServer:\u001b[39;49m\u001b[38;5;124;43m\"\u001b[39;49m\u001b[38;5;241;43m+\u001b[39;49m\u001b[43m{\u001b[49m\u001b[38;5;28;43mself\u001b[39;49m\u001b[38;5;241;43m.\u001b[39;49m\u001b[43mserver_name\u001b[49m\u001b[43m}\u001b[49m)\n\u001b[1;32m     21\u001b[0m     f\u001b[38;5;241m.\u001b[39mclose()\n",
      "\u001b[0;31mTypeError\u001b[0m: can only concatenate str (not \"set\") to str"
     ]
    }
   ],
   "source": [
    "r1.print_check()"
   ]
  },
  {
   "cell_type": "code",
   "execution_count": null,
   "id": "e131d4e3",
   "metadata": {},
   "outputs": [],
   "source": []
  }
 ],
 "metadata": {
  "kernelspec": {
   "display_name": "Python 3 (ipykernel)",
   "language": "python",
   "name": "python3"
  },
  "language_info": {
   "codemirror_mode": {
    "name": "ipython",
    "version": 3
   },
   "file_extension": ".py",
   "mimetype": "text/x-python",
   "name": "python",
   "nbconvert_exporter": "python",
   "pygments_lexer": "ipython3",
   "version": "3.10.6"
  }
 },
 "nbformat": 4,
 "nbformat_minor": 5
}
