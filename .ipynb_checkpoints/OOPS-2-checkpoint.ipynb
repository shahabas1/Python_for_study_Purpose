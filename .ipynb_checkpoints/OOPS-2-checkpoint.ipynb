{
 "cells": [
  {
   "cell_type": "code",
   "execution_count": 2,
   "id": "fb01ff64",
   "metadata": {},
   "outputs": [],
   "source": [
    "class test:\n",
    "    @staticmethod\n",
    "    def meth1():\n",
    "        return \"hi everyone. how are u?\"\n",
    "    def meth2(self):\n",
    "        return \"how old are u?\""
   ]
  },
  {
   "cell_type": "code",
   "execution_count": 5,
   "id": "4d407a47",
   "metadata": {},
   "outputs": [],
   "source": [
    "a=test()"
   ]
  },
  {
   "cell_type": "code",
   "execution_count": 4,
   "id": "11c65409",
   "metadata": {},
   "outputs": [
    {
     "data": {
      "text/plain": [
       "'hi everyone. how are u?'"
      ]
     },
     "execution_count": 4,
     "metadata": {},
     "output_type": "execute_result"
    }
   ],
   "source": [
    "test.meth1()"
   ]
  },
  {
   "cell_type": "code",
   "execution_count": 6,
   "id": "ebb54e7c",
   "metadata": {},
   "outputs": [
    {
     "data": {
      "text/plain": [
       "'how old are u?'"
      ]
     },
     "execution_count": 6,
     "metadata": {},
     "output_type": "execute_result"
    }
   ],
   "source": [
    "a.meth2()"
   ]
  },
  {
   "cell_type": "markdown",
   "id": "ab213c89",
   "metadata": {},
   "source": [
    "# inheritance"
   ]
  },
  {
   "cell_type": "code",
   "execution_count": 3,
   "id": "886e7ffc",
   "metadata": {},
   "outputs": [],
   "source": [
    "### this is an example for multiple inheritance ####\n",
    "\n",
    "class parent1:\n",
    "    def par_meth1(self):\n",
    "        return \"this is parent 1 method\"\n",
    "    \n",
    "class parent2:\n",
    "    def par_meth2(self):\n",
    "        return \"this is parent 2 method\"\n",
    "    \n",
    "class parent3:\n",
    "    def par_meth3(self):\n",
    "        return \"this is parent 3 method\"\n",
    "    \n",
    "class child(parent1,parent2,parent3):\n",
    "    def child_meth1(self):\n",
    "        return \"this is child 1 method\""
   ]
  },
  {
   "cell_type": "code",
   "execution_count": 4,
   "id": "2bbf2212",
   "metadata": {},
   "outputs": [],
   "source": [
    "c=child()"
   ]
  },
  {
   "cell_type": "code",
   "execution_count": 5,
   "id": "7b6f938a",
   "metadata": {},
   "outputs": [
    {
     "ename": "SyntaxError",
     "evalue": "invalid syntax (1195783164.py, line 1)",
     "output_type": "error",
     "traceback": [
      "\u001b[0;36m  Cell \u001b[0;32mIn [5], line 1\u001b[0;36m\u001b[0m\n\u001b[0;31m    c.\u001b[0m\n\u001b[0m      ^\u001b[0m\n\u001b[0;31mSyntaxError\u001b[0m\u001b[0;31m:\u001b[0m invalid syntax\n"
     ]
    }
   ],
   "source": [
    "c."
   ]
  },
  {
   "cell_type": "code",
   "execution_count": 6,
   "id": "47e09538",
   "metadata": {},
   "outputs": [],
   "source": [
    "\n",
    "### this is an example for multi level inheritance ####\n",
    "\n",
    "\n",
    "class parent1:\n",
    "    def par_meth1(self):\n",
    "        return \"this is parent 1 method\"\n",
    "    \n",
    "class parent2(parent1):\n",
    "    def par_meth2(self):\n",
    "        return \"this is parent 2 method\"\n",
    "    \n",
    "class parent3(parent2):\n",
    "    def par_meth3(self):\n",
    "        return \"this is parent 3 method\"\n",
    "    \n",
    "class child(parent3):\n",
    "    def child_meth1(self):\n",
    "        return \"this is child 1 method\""
   ]
  },
  {
   "cell_type": "code",
   "execution_count": 7,
   "id": "37874234",
   "metadata": {},
   "outputs": [],
   "source": [
    "d=child()"
   ]
  },
  {
   "cell_type": "code",
   "execution_count": null,
   "id": "1ef90bbb",
   "metadata": {},
   "outputs": [],
   "source": [
    "d."
   ]
  },
  {
   "cell_type": "code",
   "execution_count": 8,
   "id": "080da0c6",
   "metadata": {},
   "outputs": [],
   "source": [
    "### this is an example for method over riding #####\n",
    "\n",
    "class parent1:\n",
    "    def par_meth1(self):\n",
    "        return \"this is parent 1 method\"\n",
    "    \n",
    "class parent2(parent1):\n",
    "    def par_meth1(self):\n",
    "        return \"this is parent 2 method\"\n",
    "    \n",
    "class parent3(parent2):\n",
    "    def par_meth1(self):\n",
    "        return \"this is parent 3 method\"\n",
    "    \n",
    "class child(parent3):\n",
    "    def par_meth1(self):\n",
    "        return \"this is child 1 method\""
   ]
  },
  {
   "cell_type": "code",
   "execution_count": 9,
   "id": "6f123e0c",
   "metadata": {},
   "outputs": [],
   "source": [
    "e=child()"
   ]
  },
  {
   "cell_type": "code",
   "execution_count": 10,
   "id": "705611f4",
   "metadata": {},
   "outputs": [
    {
     "data": {
      "text/plain": [
       "'this is child 1 method'"
      ]
     },
     "execution_count": 10,
     "metadata": {},
     "output_type": "execute_result"
    }
   ],
   "source": [
    "e.par_meth1()"
   ]
  },
  {
   "cell_type": "code",
   "execution_count": 11,
   "id": "87a0a5b4",
   "metadata": {},
   "outputs": [],
   "source": [
    "\n",
    "### this is an example for method overloading ###\n",
    "\n",
    "class test:\n",
    "    def test1(self,a=1,b=2,c=3):\n",
    "        return a,b,c\n",
    "\n"
   ]
  },
  {
   "cell_type": "code",
   "execution_count": 12,
   "id": "c246c667",
   "metadata": {},
   "outputs": [],
   "source": [
    "f=test()"
   ]
  },
  {
   "cell_type": "code",
   "execution_count": 13,
   "id": "5d590bd9",
   "metadata": {},
   "outputs": [
    {
     "data": {
      "text/plain": [
       "('shahabas', 2, 3)"
      ]
     },
     "execution_count": 13,
     "metadata": {},
     "output_type": "execute_result"
    }
   ],
   "source": [
    "f.test1(\"shahabas\")"
   ]
  },
  {
   "cell_type": "code",
   "execution_count": null,
   "id": "6c15f8cb",
   "metadata": {},
   "outputs": [],
   "source": [
    "# orverlaoding is a situation where number of argument and data type will be different \n",
    "#overrding is a situation where signature of the function means name and parameter will same we will just chage the def of the func\n"
   ]
  },
  {
   "cell_type": "code",
   "execution_count": null,
   "id": "57b73e56",
   "metadata": {},
   "outputs": [],
   "source": [
    "### polymorphism ##### same person different behaviour depending on nature \n",
    "\n",
    "class test1:"
   ]
  }
 ],
 "metadata": {
  "kernelspec": {
   "display_name": "Python 3 (ipykernel)",
   "language": "python",
   "name": "python3"
  },
  "language_info": {
   "codemirror_mode": {
    "name": "ipython",
    "version": 3
   },
   "file_extension": ".py",
   "mimetype": "text/x-python",
   "name": "python",
   "nbconvert_exporter": "python",
   "pygments_lexer": "ipython3",
   "version": "3.10.6"
  }
 },
 "nbformat": 4,
 "nbformat_minor": 5
}
