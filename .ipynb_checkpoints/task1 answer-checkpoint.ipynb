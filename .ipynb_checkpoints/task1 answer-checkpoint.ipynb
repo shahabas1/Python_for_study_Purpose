{
 "cells": [
  {
   "cell_type": "code",
   "execution_count": 3,
   "id": "4f7ae4ea-d210-42ef-8943-894d95e674b8",
   "metadata": {},
   "outputs": [
    {
     "data": {
      "text/plain": [
       "12"
      ]
     },
     "execution_count": 3,
     "metadata": {},
     "output_type": "execute_result"
    }
   ],
   "source": [
    "li=[12, 35, 9, 56, 24]\n",
    "\n",
    "li[0]"
   ]
  },
  {
   "cell_type": "code",
   "execution_count": 4,
   "id": "c1416d0f-5f0e-44d8-bfae-d9e8e718d090",
   "metadata": {},
   "outputs": [
    {
     "data": {
      "text/plain": [
       "[24, 35, 9, 56, 12]"
      ]
     },
     "execution_count": 4,
     "metadata": {},
     "output_type": "execute_result"
    }
   ],
   "source": [
    "li[0],li[-1]=li[-1],li[0]\n",
    "\n",
    "li"
   ]
  },
  {
   "cell_type": "code",
   "execution_count": 5,
   "id": "57b39d61-ad79-4bb2-9df5-cda032982eb4",
   "metadata": {},
   "outputs": [
    {
     "data": {
      "text/plain": [
       "[23, 90, 19, 65]"
      ]
     },
     "execution_count": 5,
     "metadata": {},
     "output_type": "execute_result"
    }
   ],
   "source": [
    "List = [23, 65, 19, 90]\n",
    "\n",
    "\n",
    "List[1],List[3]=List[3],List[1]\n",
    "\n",
    "List"
   ]
  },
  {
   "cell_type": "code",
   "execution_count": 6,
   "id": "6e14d062-e5a4-4e3e-8d69-e19334bab6d9",
   "metadata": {},
   "outputs": [],
   "source": [
    "li=list(range(10))"
   ]
  },
  {
   "cell_type": "code",
   "execution_count": 7,
   "id": "b40fb31e-aa86-46a5-b324-1ebed7960e42",
   "metadata": {},
   "outputs": [],
   "source": [
    "li.append(2)\n",
    "li.append(6)\n",
    "li.append(8)\n",
    "li.append(2)"
   ]
  },
  {
   "cell_type": "code",
   "execution_count": 8,
   "id": "307a1fdb-9a9d-4ec7-8989-1997fb0ae6cf",
   "metadata": {},
   "outputs": [
    {
     "data": {
      "text/plain": [
       "[0, 1, 2, 3, 4, 5, 6, 7, 8, 9, 2, 6, 8, 2]"
      ]
     },
     "execution_count": 8,
     "metadata": {},
     "output_type": "execute_result"
    }
   ],
   "source": [
    "li"
   ]
  },
  {
   "cell_type": "code",
   "execution_count": 9,
   "id": "f9bba87a-78ce-43d1-83f2-236183db3a2a",
   "metadata": {},
   "outputs": [
    {
     "data": {
      "text/plain": [
       "0"
      ]
     },
     "execution_count": 9,
     "metadata": {},
     "output_type": "execute_result"
    }
   ],
   "source": [
    "li.pop(0)"
   ]
  },
  {
   "cell_type": "code",
   "execution_count": 10,
   "id": "7daf22a3-6597-4786-8946-9d35369ac63a",
   "metadata": {},
   "outputs": [
    {
     "data": {
      "text/plain": [
       "[1, 2, 3, 4, 5, 6, 7, 8, 9, 2, 6, 8, 2]"
      ]
     },
     "execution_count": 10,
     "metadata": {},
     "output_type": "execute_result"
    }
   ],
   "source": [
    "li"
   ]
  },
  {
   "cell_type": "code",
   "execution_count": 11,
   "id": "95355400-1995-435e-8404-e6867b39c59c",
   "metadata": {},
   "outputs": [],
   "source": [
    "li=set(li)"
   ]
  },
  {
   "cell_type": "code",
   "execution_count": 12,
   "id": "35d78ec7-9a14-4a97-bb18-2c626bb41858",
   "metadata": {},
   "outputs": [
    {
     "data": {
      "text/plain": [
       "362880"
      ]
     },
     "execution_count": 12,
     "metadata": {},
     "output_type": "execute_result"
    }
   ],
   "source": [
    "from functools import reduce\n",
    "\n",
    "a=lambda a,b:a*b\n",
    "\n",
    "reduce(a,li)"
   ]
  },
  {
   "cell_type": "code",
   "execution_count": 13,
   "id": "2d6b20e6-be01-4276-929d-d964231721bd",
   "metadata": {},
   "outputs": [
    {
     "name": "stdout",
     "output_type": "stream",
     "text": [
      "1 2 3\n",
      "1 3 2\n",
      "2 1 3\n",
      "2 3 1\n",
      "3 1 2\n",
      "3 2 1\n"
     ]
    }
   ],
   "source": [
    "li=[1,2,3]\n",
    "\n",
    "for i in range(3):\n",
    "    for j in range(3):\n",
    "        for k in range(3):\n",
    "            if i!=j and j!=k and i!=k:\n",
    "                print(li[i], li[j], li[k])"
   ]
  },
  {
   "cell_type": "code",
   "execution_count": 1,
   "id": "90d4bda7-d345-46d4-bb04-8d73c4ccc964",
   "metadata": {},
   "outputs": [
    {
     "ename": "SyntaxError",
     "evalue": "invalid syntax (860328078.py, line 1)",
     "output_type": "error",
     "traceback": [
      "\u001b[0;36m  Cell \u001b[0;32mIn [1], line 1\u001b[0;36m\u001b[0m\n\u001b[0;31m    1. Print the first 5 positive integers in ascending order with one number\u001b[0m\n\u001b[0m       ^\u001b[0m\n\u001b[0;31mSyntaxError\u001b[0m\u001b[0;31m:\u001b[0m invalid syntax\n"
     ]
    }
   ],
   "source": [
    "1. Print the first 5 positive integers in ascending order with one number \n",
    "in each line"
   ]
  },
  {
   "cell_type": "code",
   "execution_count": 2,
   "id": "de6c9576-8c0b-4893-bd84-0eb0a5cd0c7c",
   "metadata": {},
   "outputs": [
    {
     "name": "stdout",
     "output_type": "stream",
     "text": [
      "1\n",
      "2\n",
      "3\n",
      "4\n",
      "5\n"
     ]
    }
   ],
   "source": [
    "for i in range(1,6):\n",
    "    print(i)"
   ]
  },
  {
   "cell_type": "code",
   "execution_count": null,
   "id": "4d4e3c9d-9d94-4ec3-97ad-2bc804f21ce0",
   "metadata": {},
   "outputs": [],
   "source": [
    "2. Print the following pattern\n",
    "*\n",
    "**\n",
    "***\n",
    "****\n",
    "*****\n",
    "There are no spaces between consecutive stars. There are no spaces \n",
    "at the end of each line."
   ]
  },
  {
   "cell_type": "code",
   "execution_count": 6,
   "id": "744db91d-e660-4ec4-ba43-027e8a938f5c",
   "metadata": {},
   "outputs": [
    {
     "name": "stdout",
     "output_type": "stream",
     "text": [
      "*\n",
      "**\n",
      "***\n",
      "****\n",
      "*****\n"
     ]
    }
   ],
   "source": [
    "for i in range(5):\n",
    "        print((i+1)*\"*\")"
   ]
  },
  {
   "cell_type": "code",
   "execution_count": null,
   "id": "011a20d6-efc9-4bdc-ad89-01b7d87aef2d",
   "metadata": {},
   "outputs": [],
   "source": [
    "Accept an integer as input and print its square as output."
   ]
  },
  {
   "cell_type": "code",
   "execution_count": 8,
   "id": "8aa45a2a-f032-4f97-99de-daf0145c76ca",
   "metadata": {},
   "outputs": [
    {
     "name": "stdin",
     "output_type": "stream",
     "text": [
      "enter the number:  5\n"
     ]
    },
    {
     "name": "stdout",
     "output_type": "stream",
     "text": [
      "25\n"
     ]
    }
   ],
   "source": [
    "a=int(input(\"enter the number: \"))\n",
    "\n",
    "b= a**2\n",
    "\n",
    "print(b)"
   ]
  },
  {
   "cell_type": "code",
   "execution_count": null,
   "id": "b24e8deb-bbaf-4267-9cfc-d54684b10475",
   "metadata": {},
   "outputs": [],
   "source": [
    "Accept two integers as input and print their sum as output."
   ]
  },
  {
   "cell_type": "code",
   "execution_count": 9,
   "id": "121c2cfe-3e24-4d73-b944-2732ba74b263",
   "metadata": {},
   "outputs": [
    {
     "name": "stdin",
     "output_type": "stream",
     "text": [
      "enter the number:  10\n",
      "enter the number:  20\n"
     ]
    },
    {
     "name": "stdout",
     "output_type": "stream",
     "text": [
      "30\n"
     ]
    }
   ],
   "source": [
    "x=int(input(\"enter the number: \"))\n",
    "y=int(input(\"enter the number: \"))\n",
    "\n",
    "total=x+y\n",
    "print(total)"
   ]
  },
  {
   "cell_type": "code",
   "execution_count": null,
   "id": "09940c78-0a4b-4396-9629-8436eb1b55c0",
   "metadata": {},
   "outputs": [],
   "source": [
    "Accept two words as input and print the two words after adding a \n",
    "space between them"
   ]
  },
  {
   "cell_type": "code",
   "execution_count": 10,
   "id": "fde66828-9f82-4da8-8664-142ec58ab9df",
   "metadata": {},
   "outputs": [
    {
     "name": "stdin",
     "output_type": "stream",
     "text": [
      "enter the word:  mohamed\n",
      "enter the word:  shahabas\n"
     ]
    },
    {
     "name": "stdout",
     "output_type": "stream",
     "text": [
      "mohamed shahabas\n"
     ]
    }
   ],
   "source": [
    "c=input(\"enter the word: \")\n",
    "d=input(\"enter the word: \")\n",
    "f=c+\" \"+d\n",
    "print(f)"
   ]
  },
  {
   "cell_type": "code",
   "execution_count": null,
   "id": "e9027d6c-ec9b-4eb5-86ae-a7bca0f24483",
   "metadata": {},
   "outputs": [],
   "source": [
    "Accept the registration number of a vehicle as input and print its \n",
    "state-code as output."
   ]
  },
  {
   "cell_type": "code",
   "execution_count": 11,
   "id": "9251fb4b-5785-4f0a-b83b-751d89185aa7",
   "metadata": {},
   "outputs": [
    {
     "name": "stdin",
     "output_type": "stream",
     "text": [
      "enter the word:  KL 55 V 4321\n"
     ]
    },
    {
     "name": "stdout",
     "output_type": "stream",
     "text": [
      "KL\n"
     ]
    }
   ],
   "source": [
    "g=input(\"enter the word: \")\n",
    "\n",
    "\n",
    "print(g[0:2])"
   ]
  },
  {
   "cell_type": "code",
   "execution_count": null,
   "id": "46ab05c2-3608-49cd-8754-f222aad318db",
   "metadata": {},
   "outputs": [],
   "source": [
    "Accept a five-digit number as input and print the sum of its digits as \n",
    "output."
   ]
  },
  {
   "cell_type": "code",
   "execution_count": 14,
   "id": "763ba05f-2b55-46ed-8a84-f9897026b6ee",
   "metadata": {},
   "outputs": [
    {
     "name": "stdin",
     "output_type": "stream",
     "text": [
      "enter the number:  12345\n"
     ]
    },
    {
     "name": "stdout",
     "output_type": "stream",
     "text": [
      "15\n"
     ]
    }
   ],
   "source": [
    "x=input(\"enter the number: \")\n",
    "sum=0\n",
    "for i in x:\n",
    "    sum=sum+int(i)\n",
    "print(sum)"
   ]
  },
  {
   "cell_type": "code",
   "execution_count": null,
   "id": "08f90e13-62d4-43f1-bd7c-5aff58ec2893",
   "metadata": {},
   "outputs": [],
   "source": [
    "Accept five words as input and print the sentence formed by these \n",
    "words after adding a space between consecutive words and a full stop \n",
    "at the end."
   ]
  },
  {
   "cell_type": "code",
   "execution_count": 15,
   "id": "790e9262-b178-4b78-8409-6de29fad5ce8",
   "metadata": {},
   "outputs": [
    {
     "name": "stdin",
     "output_type": "stream",
     "text": [
      "enter the word:  My\n",
      "enter the word:  name\n",
      "enter the word:  is\n",
      "enter the word:  Mohamed\n",
      "enter the word:  Shahabas\n"
     ]
    },
    {
     "name": "stdout",
     "output_type": "stream",
     "text": [
      "My name is Mohamed Shahabas.\n"
     ]
    }
   ],
   "source": [
    "a=input(\"enter the word: \")\n",
    "b=input(\"enter the word: \")\n",
    "c=input(\"enter the word: \")\n",
    "d=input(\"enter the word: \")\n",
    "e=input(\"enter the word: \")\n",
    "\n",
    "print(a+\" \"+b+\" \"+c+\" \"+d+\" \"+e+\".\")\n"
   ]
  },
  {
   "cell_type": "code",
   "execution_count": null,
   "id": "4eb060a1-153e-4cda-b016-f5ac0ba647d2",
   "metadata": {},
   "outputs": [],
   "source": [
    "9.Accept the date in DD-MM-YYYY format as input and print the \n",
    "year as output."
   ]
  },
  {
   "cell_type": "code",
   "execution_count": 25,
   "id": "3dfbcbb4-957f-49b8-b15c-513abe156796",
   "metadata": {},
   "outputs": [
    {
     "name": "stdin",
     "output_type": "stream",
     "text": [
      "Enter the date : 19-11-2022\n"
     ]
    },
    {
     "name": "stdout",
     "output_type": "stream",
     "text": [
      "2022\n"
     ]
    }
   ],
   "source": [
    "date=input(\"Enter the date :\")\n",
    "\n",
    "print(date[-4:])"
   ]
  },
  {
   "cell_type": "code",
   "execution_count": null,
   "id": "fc45e4d8-73d1-4fd0-a522-5a84c68f71e0",
   "metadata": {},
   "outputs": [],
   "source": [
    "10.Accept a sequence of five single digit numbers separated by commas \n",
    "as input. Print the product of all five numbers."
   ]
  },
  {
   "cell_type": "code",
   "execution_count": 27,
   "id": "cf0e305e-0c38-4e59-b55f-0e837ad42f44",
   "metadata": {},
   "outputs": [
    {
     "name": "stdin",
     "output_type": "stream",
     "text": [
      "enter the number:  1,2,3,4,5\n"
     ]
    },
    {
     "name": "stdout",
     "output_type": "stream",
     "text": [
      "120\n"
     ]
    }
   ],
   "source": [
    "number=input(\"enter the number: \")\n",
    "mult=1\n",
    "for i in number:\n",
    "    if i.isdigit()==True:\n",
    "        mult=mult*int(i)\n",
    "print(mult)\n"
   ]
  },
  {
   "cell_type": "code",
   "execution_count": null,
   "id": "92c534e1-6a2d-4741-b7cf-d375b719cba2",
   "metadata": {},
   "outputs": [],
   "source": [
    "11. Accept two positive integers x and y as input. Print the number of \n",
    "digits in xy"
   ]
  },
  {
   "cell_type": "code",
   "execution_count": 31,
   "id": "bdb0bad5-da25-4c40-960d-01026ad706a1",
   "metadata": {},
   "outputs": [
    {
     "name": "stdin",
     "output_type": "stream",
     "text": [
      "enter the number:  5\n",
      "enter the number:  7\n"
     ]
    },
    {
     "name": "stdout",
     "output_type": "stream",
     "text": [
      "5\n"
     ]
    }
   ],
   "source": [
    "x=int(input(\"enter the number: \"))\n",
    "y=int(input(\"enter the number: \"))\n",
    "\n",
    "print(len(str(x**y)))"
   ]
  },
  {
   "cell_type": "code",
   "execution_count": null,
   "id": "daa2db1a-931d-4b17-80b2-323e7b3b1f92",
   "metadata": {},
   "outputs": [],
   "source": [
    "Accept a string as input. If the input string is of odd length, then \n",
    "continue with it. If the input string is of even length, make the \n",
    "string of odd length as below:\n",
    "• If the last character is a period (.), then remove it \n",
    "• If the last character is not a period, then add a period (.) to the \n",
    "end of the string\n",
    "Call this string of odd length word. Select a substring made up of \n",
    "three consecutive characters from word such that there are an \n",
    "equal number of characters to the left and right of this substring. \n",
    "Print this substring as output. You can assume that all input \n",
    "strings will be in lower case and will have a length of at least four"
   ]
  },
  {
   "cell_type": "code",
   "execution_count": 6,
   "id": "a81ffb4a-06e6-4ab3-8c66-d9a05a5d4d26",
   "metadata": {},
   "outputs": [
    {
     "name": "stdin",
     "output_type": "stream",
     "text": [
      " butterflys\n"
     ]
    },
    {
     "name": "stdout",
     "output_type": "stream",
     "text": [
      "erf\n"
     ]
    }
   ],
   "source": [
    "a=input()\n",
    "len(a)\n",
    "if len(a)%2==0:\n",
    "    if a[-1]==\".\":\n",
    "        a=a[:len(a)-1]\n",
    "    if a[-1]!=\".\":\n",
    "        a=a+\".\"\n",
    "n=int((len(a)-1)/2)\n",
    "print(a[n-1:n+2])"
   ]
  },
  {
   "cell_type": "code",
   "execution_count": null,
   "id": "ca3965c5-3d4b-4b06-a4fd-16523f346f52",
   "metadata": {},
   "outputs": [],
   "source": [
    "13. Accept three positive integers as input and check if they form the \n",
    "sides of a right triangle. Print YES if they form one, and NO is they do \n",
    "not. The input will have three lines, with one integer on each line. \n",
    "The output should be a single line containing one of these two \n",
    "strings: YES or NO."
   ]
  },
  {
   "cell_type": "code",
   "execution_count": 8,
   "id": "47c39310-ae64-4798-9829-ce12e4e10316",
   "metadata": {},
   "outputs": [
    {
     "name": "stdin",
     "output_type": "stream",
     "text": [
      " 3\n",
      " 4\n",
      " 5\n"
     ]
    },
    {
     "name": "stdout",
     "output_type": "stream",
     "text": [
      "Yes\n"
     ]
    }
   ],
   "source": [
    "x=int(input())\n",
    "y=int(input())\n",
    "z=int(input())\n",
    "\n",
    "if x**2+y**2==z**2 or y**2+z**2==x**2 or x**2+z**2==y**2:\n",
    "    print(\"Yes\")\n",
    "else:\n",
    "    print(\"No\")"
   ]
  },
  {
   "cell_type": "code",
   "execution_count": null,
   "id": "eada29da-6dc7-4e69-9875-e7e670b855ca",
   "metadata": {},
   "outputs": [],
   "source": [
    "14. EvenOdd is a tech startup. Each employee at the startup is given an employee id which is a unique \n",
    "positive integer. On one warm Sunday evening, five employees of the company come together for a \n",
    "meeting and sit at a circular table:\n",
    "The employees follow a strange convention. They will continue the meeting only if the following \n",
    "condition is satisfied.\n",
    "The sum of the employee-ids of every pair of adjacent employees at the table must be an even \n",
    "number.\n",
    "They are so lazy that they won’t move around to satisfy the above condition, If the current seating \n",
    "plan doesn’t satisfy the condition, the meeting will be cancelled. You are given the employee-id of all \n",
    "five employees. Your task is to decide if the meeting happened or not.\n",
    "The input will be five lined, each containing an integer. The ith line will have the employee-id of Ei. \n",
    "The output will be a single line containing one of these two strings: YES or NO"
   ]
  },
  {
   "cell_type": "code",
   "execution_count": 11,
   "id": "691e1c15-78c9-4541-9f59-8de41facd026",
   "metadata": {},
   "outputs": [
    {
     "name": "stdin",
     "output_type": "stream",
     "text": [
      " 23\n",
      " 34\n",
      " 45\n",
      " 65\n",
      " 12\n"
     ]
    },
    {
     "name": "stdout",
     "output_type": "stream",
     "text": [
      "no\n"
     ]
    }
   ],
   "source": [
    "e1=int(input())\n",
    "e2=int(input())\n",
    "e3=int(input())\n",
    "e4=int(input())\n",
    "e5=int(input())\n",
    "\n",
    "\n",
    "if (e1+e2)%2==0 and (e2+e3)%2==0 and (e3+e4)==0 and (e4+e5)==0 and (e5+e1)==0:\n",
    "    print(\"yes\")\n",
    "else:\n",
    "    print(\"no\")\n",
    "          "
   ]
  },
  {
   "cell_type": "code",
   "execution_count": null,
   "id": "16251914-d14e-4a72-b6ea-3bebbad7c706",
   "metadata": {},
   "outputs": [],
   "source": [
    "21.Accept a phone number as input. A valid phone number should satisfy \n",
    "the following constraints.\n",
    "(1) The number should start with one of these digits: 6, 7, 8, 9\n",
    "(2) The number should be exactly 10 digits long.\n",
    "(3) No digit should appear more than 7 times in the number.\n",
    "(4) No digit should appear more than 5 times in a row in the \n",
    "number.\n",
    "If the fourth condition is not very clear, then consider this example: \n",
    "the number 9888888765 is invalid because the digit 8 appears more \n",
    "than 5 times in a row. Print the string valid if the phone number is \n",
    "valid. If not, print the string invalid."
   ]
  },
  {
   "cell_type": "code",
   "execution_count": 8,
   "id": "50dba66e-7642-4505-913a-67de54593227",
   "metadata": {},
   "outputs": [
    {
     "name": "stdin",
     "output_type": "stream",
     "text": [
      " 9888888881\n"
     ]
    },
    {
     "name": "stdout",
     "output_type": "stream",
     "text": [
      "valid\n",
      " \n",
      "Invalid Number\n",
      " \n",
      "Invalid Number\n",
      " \n",
      "Invalid Number\n",
      " \n",
      "Invalid Number\n",
      " \n",
      "Invalid Number\n",
      " \n",
      "Invalid Number\n",
      " \n",
      "Invalid Number\n",
      " \n",
      "Invalid Number\n",
      " \n",
      "valid\n",
      " \n"
     ]
    }
   ],
   "source": [
    "phone_number=input()\n",
    "flag=False\n",
    "\n",
    "for i in phone_number:\n",
    "    if phone_number.isdigit() and len(phone_number)==10 and int(phone_number[0])>6:\n",
    "        if phone_number.count(i)>8 or i*6 in phone_number:\n",
    "            flag=True\n",
    "            \n",
    "            print(\"Invalid Number\")\n",
    "        else:\n",
    "            print(\"valid\")\n",
    "    else:\n",
    "        print(\"invalid NUmber\")\n",
    "   \n",
    "\n",
    "    print(\" \")"
   ]
  },
  {
   "cell_type": "code",
   "execution_count": null,
   "id": "83338e76-d228-410f-b030-8bcb6b2ca05a",
   "metadata": {},
   "outputs": [],
   "source": [
    "Accept a string as input and print the vowels present in the string in \n",
    "alphabetical order. If the string doesn’t contain any vowels, then \n",
    "print the string none as output. Each vowel that appears in the input \n",
    "string – irrespective of its case should appear just once in lower case \n",
    "in the output"
   ]
  },
  {
   "cell_type": "code",
   "execution_count": 2,
   "id": "abba4b2d-c672-4a2c-8411-d558fe2a43f9",
   "metadata": {},
   "outputs": [
    {
     "name": "stdin",
     "output_type": "stream",
     "text": [
      " shahabasui\n"
     ]
    },
    {
     "name": "stdout",
     "output_type": "stream",
     "text": [
      "None\n",
      "None\n",
      "['a', 'i', 'u']\n"
     ]
    }
   ],
   "source": [
    "string=input()\n",
    "\n",
    "vowels=['a','e','i','o','u']\n",
    "\n",
    "lis=list()\n",
    "string=string.lower()\n",
    "checked = 0\n",
    "for i in string:\n",
    "    for j in vowels:\n",
    "        if i==j: \n",
    "            lis.append(i)\n",
    "            checked += 1\n",
    "    if checked==0: \n",
    "        print(\"None\")\n",
    "            \n",
    "b=set(lis)\n",
    "b=list(b)\n",
    "b=sorted(b)\n",
    "print(b)"
   ]
  },
  {
   "cell_type": "code",
   "execution_count": null,
   "id": "def30d8f-169b-4f02-a647-7f96e058d1b7",
   "metadata": {},
   "outputs": [],
   "source": [
    "16.You are given the date of birth of two persons, not necessarily from \n",
    "the same family. Your task is to find the younger of the two. If both \n",
    "of them share the same date of birth, then the younger of the two is \n",
    "assumed to be that person whose name comes first in alphabetical \n",
    "order.\n",
    "The input will have four lines. The first two lines correspond to the \n",
    "first person, while the last two lines correspond to the second \n",
    "person. For each person, the first line corresponds to the name and \n",
    "the second line corresponds to the date of birth in “DD-MM-YYYY” \n",
    "format. Your output should be the name of the younger of the two."
   ]
  },
  {
   "cell_type": "code",
   "execution_count": 14,
   "id": "77aea86a-23c6-4777-bca8-dc479c53998b",
   "metadata": {},
   "outputs": [
    {
     "name": "stdin",
     "output_type": "stream",
     "text": [
      " shahabas\n",
      " 18-01-1994\n",
      " ruksana\n",
      " 19-08-1994\n"
     ]
    },
    {
     "name": "stdout",
     "output_type": "stream",
     "text": [
      "ruksana is younger\n",
      "ruksana is younger\n",
      "ruksana is younger\n"
     ]
    }
   ],
   "source": [
    "person1=input()\n",
    "p1_dob=input()\n",
    "person2=input()\n",
    "p2_dob=input()\n",
    "\n",
    "if p1_dob==p2_dob:\n",
    "    if person1>person2:\n",
    "        print(f\"{person2} is younger\")\n",
    "    else:\n",
    "        print(f\"{person1} is younger\")\n",
    "if int(p1_dob[-4:])>int(p2_dob[-4:]):\n",
    "    print(f\"{person1} is younger\")\n",
    "else:\n",
    "    print(f\"{person2} is younger\")\n",
    "if int(p1_dob[-4:])==int(p2_dob[-4:]):\n",
    "    if int(p1_dob[3:5])>int(p2_dob[3:5]):\n",
    "        print(f\"{person1} is younger\")\n",
    "    else:\n",
    "        print(f\"{person2} is younger\")\n",
    "if (int(p1_dob[-4:]) == int(p2_dob[-4:])) and (int(p1_dob[3:5]) and int(p2_dob[3:5])):\n",
    "    if int(p1_dob[:2])>int(p2_dob[:2]):\n",
    "        print(f\"{person1} is younger\")\n",
    "    else:\n",
    "        print(f\"{person2} is younger\")\n",
    "        "
   ]
  },
  {
   "cell_type": "code",
   "execution_count": null,
   "id": "b15a7ac6-4033-4412-a404-6d6639ef0703",
   "metadata": {},
   "outputs": [],
   "source": [
    "17.Accept a string as input. Your task is to determine if the input string is a valid password or not. For a \n",
    "string to be a valid password, it must satisfy all the conditions given below:\n",
    "(1) It should have at least 8 and at most 32 characters\n",
    "(2) It should start with an uppercase or lowercase letter\n",
    "(3) It should not have any of these characters: / \\ = ' \"\n",
    "(4) It should not have spaces\n",
    "It could have any character that is not mentioned in the list of characters to be avoided (points 3 and \n",
    "4). Output True if the string forms a valid password and False otherwise"
   ]
  },
  {
   "cell_type": "code",
   "execution_count": 40,
   "id": "6fe5f2a3-9ec1-4c74-91bb-9e2bd1c02692",
   "metadata": {},
   "outputs": [
    {
     "name": "stdin",
     "output_type": "stream",
     "text": [
      "Enter the string:  ziya\"eel\n"
     ]
    },
    {
     "name": "stdout",
     "output_type": "stream",
     "text": [
      "false\n"
     ]
    }
   ],
   "source": [
    "password= input(\"Enter the string: \")\n",
    "s=\"/\\= '\\\"\"\n",
    "flag=False\n",
    "if len(password)>7 or len(password)<33:\n",
    "    if password[0].isupper() or password.islower():\n",
    "        for i in password:\n",
    "            for j in s:\n",
    "                if i != j:\n",
    "                    pass\n",
    "                else:\n",
    "                    flag=True\n",
    "                    break\n",
    "                    \n",
    "if flag:\n",
    "    print(\"false\")\n",
    "else:\n",
    "    print(\"True\")\n",
    "\n",
    "    "
   ]
  },
  {
   "cell_type": "code",
   "execution_count": null,
   "id": "84338b8d-2e24-4a10-a7b8-2b42b3b8ab49",
   "metadata": {},
   "outputs": [],
   "source": [
    "18. Accept a positive integer n as input and print the first n positive \n",
    "integers, one number on each line."
   ]
  },
  {
   "cell_type": "code",
   "execution_count": 34,
   "id": "9237c450-ec4e-4069-a8ec-a5852c81e8d7",
   "metadata": {},
   "outputs": [
    {
     "name": "stdin",
     "output_type": "stream",
     "text": [
      " 15\n"
     ]
    },
    {
     "name": "stdout",
     "output_type": "stream",
     "text": [
      "1\n",
      "2\n",
      "3\n",
      "4\n",
      "5\n",
      "6\n",
      "7\n",
      "8\n",
      "9\n",
      "10\n",
      "11\n",
      "12\n",
      "13\n",
      "14\n",
      "15\n"
     ]
    }
   ],
   "source": [
    "n=int(input())\n",
    "\n",
    "for i in range(1,n+1):\n",
    "    print(i)\n",
    "    "
   ]
  },
  {
   "cell_type": "code",
   "execution_count": null,
   "id": "d77d635b-db7c-495c-915c-1f23b7efdce1",
   "metadata": {},
   "outputs": [],
   "source": [
    "20. Accept two strings as input and form a new string by removing all \n",
    "characters from the second string which are present in the first string. \n",
    "Print this new string as output. You can assume that all input strings \n",
    "will be in lower case."
   ]
  },
  {
   "cell_type": "code",
   "execution_count": 3,
   "id": "5beafb35-87fa-4358-9dfa-1a3d50d731aa",
   "metadata": {},
   "outputs": [
    {
     "name": "stdin",
     "output_type": "stream",
     "text": [
      " shahabas\n",
      " ruksana\n"
     ]
    },
    {
     "name": "stdout",
     "output_type": "stream",
     "text": [
      "rukn\n"
     ]
    }
   ],
   "source": [
    "first=input()\n",
    "second=input()\n",
    "\n",
    "\n",
    "for i in second:\n",
    "    if i in first:\n",
    "        second=second.replace(i,\"\")\n",
    "print(second)"
   ]
  },
  {
   "cell_type": "code",
   "execution_count": null,
   "id": "82536564-4cdf-4fbc-a130-99af77ceb77f",
   "metadata": {},
   "outputs": [],
   "source": [
    "19.Accept a positive integer n as input, where n is greater than 1. \n",
    "Print PRIME ifnis a prime number and NOTPRIME otherwise."
   ]
  },
  {
   "cell_type": "code",
   "execution_count": 36,
   "id": "7e9fdc9c-7166-40f9-8d88-4fe4705df845",
   "metadata": {},
   "outputs": [
    {
     "name": "stdout",
     "output_type": "stream",
     "text": [
      "its a prime\n"
     ]
    }
   ],
   "source": [
    "a=19\n",
    "flag=False\n",
    "for i in range(2,19):\n",
    "    if a%i==0:\n",
    "        flag=True\n",
    "        break\n",
    "if flag:\n",
    "    print(f\"divisor is {i},its not a prime\")\n",
    "else:\n",
    "    print(\"its a prime\")"
   ]
  },
  {
   "cell_type": "code",
   "execution_count": null,
   "id": "8ac3d531-71e0-477c-b340-82415527f642",
   "metadata": {},
   "outputs": [],
   "source": [
    "22. In the first line of input, accept a sequence of space-separated words. In the second line of \n",
    "input, accept a single word. If this word is not present in the sequence, print NO. If this word \n",
    "is present in the sequence, then print YES and in the next line of the output, print the number \n",
    "of times the word appears in the sequence."
   ]
  },
  {
   "cell_type": "code",
   "execution_count": 39,
   "id": "53d0ffda-8f29-45cc-b125-ee2bcbdad847",
   "metadata": {},
   "outputs": [
    {
     "name": "stdin",
     "output_type": "stream",
     "text": [
      " shahabas this is shahabas\n",
      " shahabas\n"
     ]
    },
    {
     "name": "stdout",
     "output_type": "stream",
     "text": [
      "Yes\n",
      "the count of sequence is 2\n"
     ]
    }
   ],
   "source": [
    "first_word=input()\n",
    "second_word=input()\n",
    "\n",
    "\n",
    "\n",
    "for i in first_word:\n",
    "    if second_word in first_word:\n",
    "        a=first_word.count(second_word)\n",
    "        pass\n",
    "    else:\n",
    "        flag=True\n",
    "        break\n",
    "\n",
    "\n",
    "\n",
    "\n",
    "\n",
    "if flag:\n",
    "    print(\"NO\")\n",
    "else:\n",
    "    print(\"Yes\")\n",
    "    print(f\"the count of sequence is {a}\")\n",
    "          "
   ]
  },
  {
   "cell_type": "code",
   "execution_count": null,
   "id": "bdbb7c62-309b-4dc4-a704-b4083f547033",
   "metadata": {},
   "outputs": [],
   "source": [
    "23. Write a function named factorial that accepts an integer n as argument. It should return \n",
    "the factorial of n if n is a positive integer. It should return -1 if n is a negative integer, and it \n",
    "should return 1 if n is zero."
   ]
  },
  {
   "cell_type": "code",
   "execution_count": 41,
   "id": "f35dbbc7-7b5f-4778-9901-3453ee0f7b39",
   "metadata": {},
   "outputs": [],
   "source": [
    "def factorial(n):\n",
    "    if n==0 or n==1:\n",
    "        return 1\n",
    "    if n<0:\n",
    "        return -1\n",
    "    mult=1\n",
    "    if n>1:\n",
    "        for i in range(1,n+1):\n",
    "            mult=mult*i\n",
    "    return mult\n",
    "        "
   ]
  },
  {
   "cell_type": "code",
   "execution_count": 47,
   "id": "9bd3afd6-ec07-4583-8db4-3a35c2d63b9b",
   "metadata": {},
   "outputs": [
    {
     "data": {
      "text/plain": [
       "5040"
      ]
     },
     "execution_count": 47,
     "metadata": {},
     "output_type": "execute_result"
    }
   ],
   "source": [
    "factorial(7)"
   ]
  },
  {
   "cell_type": "code",
   "execution_count": null,
   "id": "7d8a508b-cd95-490e-aca1-f92a63aa8193",
   "metadata": {},
   "outputs": [],
   "source": [
    "24. \n",
    "The range of a list of numbers is the difference between the maximum and minimum values in the list\n",
    "Write a function named get_range that accepts a non-empty list of real numbers as argument. It \n",
    "should return the range of the list.\n",
    "(1) Avoid using built-in function such as max and min.\n",
    "(2) You do not have to accept input from the user or print output to the console. You just have to write \n",
    "the function definition."
   ]
  },
  {
   "cell_type": "code",
   "execution_count": 3,
   "id": "dfb2161a-3e10-4e9e-8fb3-f7f2c3cda1df",
   "metadata": {},
   "outputs": [],
   "source": [
    "def get_range(l):\n",
    "\n",
    "    \n",
    "    l=sorted(l)\n",
    "    rang=l[-1]-l[0]\n",
    "    return rang"
   ]
  },
  {
   "cell_type": "code",
   "execution_count": 4,
   "id": "ff22c010-5107-4239-9b03-9d0bb7a8ee13",
   "metadata": {},
   "outputs": [
    {
     "data": {
      "text/plain": [
       "21"
      ]
     },
     "execution_count": 4,
     "metadata": {},
     "output_type": "execute_result"
    }
   ],
   "source": [
    "get_range([1,3,10,15,7,22,20])\n"
   ]
  },
  {
   "cell_type": "code",
   "execution_count": null,
   "id": "bfed559d-4f20-487d-bb11-eeda39eff800",
   "metadata": {},
   "outputs": [],
   "source": [
    "25. Write a function named read_file that accepts a text file named filename as argument. Within \n",
    "the function, read the file and print each line of the file on a separate line in the console. You shouldn't \n",
    "print any extra characters at the end of a line. There shouldn't be an empty line between any two \n",
    "consecutive lines.\n",
    "(1) filename is a string variable that holds the name of the file. For example, in the first test case, it \n",
    "is filename = 'public_1.txt'.\n",
    "(2) You do not have to accept input from the console. You have to write the function definition and \n",
    "print the contents of the file within the function"
   ]
  },
  {
   "cell_type": "code",
   "execution_count": null,
   "id": "ff51aeaf-03bb-4ebb-9a1b-f58923c6ffda",
   "metadata": {},
   "outputs": [],
   "source": [
    "26. A simple algorithm has to be designed to find out whether a student \n",
    "belongs to the Data Science branch or not. The input will be a \n",
    "student's roll number, which is of the form BR18B0000. \n",
    "Here, BR represents the branch code, 18 represents the year of \n",
    "joining, B represents the education level and 0000 represents the \n",
    "specific identification given to the student of that batch. The branch \n",
    "code for Data Science is DS. Print True if the student belongs to \n",
    "Data Science branch and False otherwise."
   ]
  },
  {
   "cell_type": "code",
   "execution_count": null,
   "id": "ef2b6eb5-1f91-4a4c-916e-453a56b180bd",
   "metadata": {},
   "outputs": [],
   "source": [
    "if len(roll_number)==9:\n",
    "    if roll_number[0:2]==\"DS\":\n",
    "        print(\"True\")\n",
    "    else:\n",
    "        print(\"False\")"
   ]
  },
  {
   "cell_type": "code",
   "execution_count": null,
   "id": "bdde3125-ad76-4bac-906b-11e66927b672",
   "metadata": {},
   "outputs": [],
   "source": [
    "27.The police are trying to track a criminal based on the evidence \n",
    "available at a crime site. Their main clue is a vehicle's damaged \n",
    "number plate. Only the string TN07 is visible. The format of the \n",
    "registration number is AA00AA00, where the first two letters are \n",
    "alphabets, next two are numbers, next two are again alphabets \n",
    "followed by two numbers at the end. A number plate is picked from a \n",
    "database of registration numbers and is given to you as input. Your \n",
    "task is to determine if this could belong to the criminal or not. \n",
    "Print True if the number plate \n",
    "contains TN07 and False otherwise."
   ]
  },
  {
   "cell_type": "code",
   "execution_count": 2,
   "id": "9879f17e-255f-4e1e-9cb0-374b14113bbb",
   "metadata": {},
   "outputs": [
    {
     "name": "stdout",
     "output_type": "stream",
     "text": [
      "False\n"
     ]
    }
   ],
   "source": [
    "if \"TN07\" in \"TN05AB7234\":\n",
    "    print(\"True\")\n",
    "else:\n",
    "    print(\"False\")"
   ]
  },
  {
   "cell_type": "code",
   "execution_count": null,
   "id": "f97e488b-78a6-48b0-853a-98e5c8e2734f",
   "metadata": {},
   "outputs": [],
   "source": [
    "28. You are given a string and two non-negative integers as input. The \n",
    "two integers specify the start and end indices of a substring in the \n",
    "given string. Create a new string by replicating the substring a \n",
    "minimum number of times so that the resulting string is longer than \n",
    "the input string. The input parameters are the string, start index of \n",
    "the substring and the end index of substring (endpoints inclusive) \n",
    "each on a different line."
   ]
  },
  {
   "cell_type": "code",
   "execution_count": 23,
   "id": "15ba1337-27db-4a37-9c4e-cc9e82f64a08",
   "metadata": {},
   "outputs": [
    {
     "name": "stdin",
     "output_type": "stream",
     "text": [
      " ziya\n",
      " 1\n",
      " 2\n"
     ]
    },
    {
     "name": "stdout",
     "output_type": "stream",
     "text": [
      "iyiyiy\n",
      "6\n"
     ]
    }
   ],
   "source": [
    "string= input()\n",
    "start=int(input())\n",
    "end=int(input())\n",
    "\n",
    "\n",
    "\n",
    "\n",
    "if len(string[start:end])<len(string):\n",
    "    for i in range(len(string)):\n",
    "        \n",
    "        if len(string[start:end+1]*i)>len(string):\n",
    "            print(string[start:end+1]*i)\n",
    "            break\n",
    "        else:\n",
    "            continue\n",
    "print(len(string[start:end+1]*i))        "
   ]
  },
  {
   "cell_type": "code",
   "execution_count": null,
   "id": "8b8119c4-98b8-4102-a914-f2f3f1b54339",
   "metadata": {},
   "outputs": [],
   "source": [
    "29. A class teacher has decided to split her entire class into four groups, namely Sapphire, Peridot, Ruby, \n",
    "and Emerald for sports competitions. For dividing the students into these four groups, she has \n",
    "followed the pattern given below:\n",
    "Sapphire - 1, 5, 9, 13, 17, 21, ...\n",
    "Peridot - 2, 6, 10, 14, 18, 22, ...\n",
    "Ruby - 3, 7, 11, 15, 19, 23, ...\n",
    "Emerald - 4, 8, 12, 16, 20, 24, ...\n",
    "All the students are represented by their roll numbers. Based on the above pattern, given the roll \n",
    "number as input, print the group the student belongs to. Note that the roll number can be any \n",
    "positive integer and not necessarily less than 25."
   ]
  },
  {
   "cell_type": "code",
   "execution_count": 43,
   "id": "4c22fd46-4a4e-498d-8a7f-687c85f329e5",
   "metadata": {},
   "outputs": [
    {
     "name": "stdin",
     "output_type": "stream",
     "text": [
      " 15\n"
     ]
    },
    {
     "name": "stdout",
     "output_type": "stream",
     "text": [
      "Ruby\n"
     ]
    }
   ],
   "source": [
    "Sapphire =[i for i in range(1,25,4)]\n",
    "Peridot=[i for i in range(2,25,4)]\n",
    "Ruby=[i for i in range(3,25,4)]\n",
    "Emerald=[i for i in range(4,25,4)]\n",
    "\n",
    "\n",
    "roll=int(input())\n",
    "\n",
    "a={\"sapphire\":Sapphire,\"peridot\":Peridot,\"Ruby\":Ruby,\"Emerald\":Emerald}\n",
    "\n",
    "        \n",
    "for i in a:\n",
    "    if roll in a[i]:\n",
    "        print(i)"
   ]
  },
  {
   "cell_type": "code",
   "execution_count": null,
   "id": "980b54e9-497c-45f8-a23d-126935852e8f",
   "metadata": {},
   "outputs": [],
   "source": [
    "30. A data science company wants to hire data scientists from abc college. \n",
    "The company follows a certain criteria for selection: for a student to \n",
    "be selected, the number of backlogs should be at most 5 and the \n",
    "CGPA (Cumulative Grade Point Average) should be greater than 6. If \n",
    "the student does not fit the above criteria, then the student is not \n",
    "offered the job. If the student is selected, then the salary offered is \n",
    "equal to 5 times his/her CGPA (in lakhs).\n",
    "Accept the number of backlogs (integer) and the CGPA (float) of the \n",
    "student as input. Your task is to determine if the student is selected or \n",
    "not. If the student is selected, then print the package. If not, then \n",
    "print the string Not Selected."
   ]
  },
  {
   "cell_type": "code",
   "execution_count": 46,
   "id": "a5455af3-2ceb-4bce-8fca-6fb132c3d654",
   "metadata": {},
   "outputs": [
    {
     "name": "stdin",
     "output_type": "stream",
     "text": [
      " 5\n",
      " 10\n"
     ]
    },
    {
     "name": "stdout",
     "output_type": "stream",
     "text": [
      "50.0\n"
     ]
    }
   ],
   "source": [
    "arear=int(input())\n",
    "cgpa=float(input())\n",
    "\n",
    "if arear<=5 and cgpa>6.00 and cgpa<=10.00:\n",
    "    print(5*cgpa)\n",
    "else:\n",
    "    print(\"Not Selected\")\n",
    "    "
   ]
  },
  {
   "cell_type": "code",
   "execution_count": null,
   "id": "59b98435-e8e5-4460-a3e3-e46afb039f87",
   "metadata": {},
   "outputs": [],
   "source": [
    "31. Accept a string as input and print PALINDROME if it is a \n",
    "palindrome, and NOT PALINDROME otherwise"
   ]
  },
  {
   "cell_type": "code",
   "execution_count": 48,
   "id": "9044e933-0c11-4ed8-859c-007c2d455f6a",
   "metadata": {},
   "outputs": [
    {
     "name": "stdin",
     "output_type": "stream",
     "text": [
      " malayalam\n"
     ]
    },
    {
     "name": "stdout",
     "output_type": "stream",
     "text": [
      "Palindrome\n"
     ]
    }
   ],
   "source": [
    "string=input()\n",
    "\n",
    "if string[::]==string[::-1]:\n",
    "    print(\"Palindrome\")\n",
    "else:\n",
    "    print(\"Not Palindrome\")"
   ]
  },
  {
   "cell_type": "code",
   "execution_count": null,
   "id": "945b62cf-dcb7-4c2a-ba7c-8692dc63c839",
   "metadata": {},
   "outputs": [],
   "source": [
    "decorator that logs the date and time"
   ]
  },
  {
   "cell_type": "code",
   "execution_count": 70,
   "id": "2bdc3a8b-2a32-4975-92ff-5b230b4f4356",
   "metadata": {},
   "outputs": [],
   "source": [
    "import datetime\n",
    "def func1(func):\n",
    "    def func2():\n",
    "        x=datetime.datetime.now()\n",
    "        print(x)\n",
    "        return func()\n",
    "    return func2\n",
    "        "
   ]
  },
  {
   "cell_type": "code",
   "execution_count": 73,
   "id": "9fdcd25d-b5f7-4a3d-b2d2-6679840eba7e",
   "metadata": {},
   "outputs": [],
   "source": [
    "@func1\n",
    "\n",
    "def func3():\n",
    "       return \"developer\""
   ]
  },
  {
   "cell_type": "code",
   "execution_count": 74,
   "id": "f7f7552a-2e29-456b-ba28-005fe9d48f19",
   "metadata": {},
   "outputs": [
    {
     "name": "stdout",
     "output_type": "stream",
     "text": [
      "2022-11-23 17:41:52.456250\n"
     ]
    },
    {
     "data": {
      "text/plain": [
       "'developer'"
      ]
     },
     "execution_count": 74,
     "metadata": {},
     "output_type": "execute_result"
    }
   ],
   "source": [
    "func3()"
   ]
  },
  {
   "cell_type": "code",
   "execution_count": null,
   "id": "30f970a8-2a1f-443f-aa7d-33a07efebde2",
   "metadata": {},
   "outputs": [],
   "source": [
    "38. Create an outer function that will accept two strings, x and y. (x= 'Emma' and y = 'Kelly'.\n",
    "Create an inner function inside an outer function that will concatenate x and y.\n",
    "At last, an outer function will join the word 'developer' to it."
   ]
  },
  {
   "cell_type": "code",
   "execution_count": 85,
   "id": "6578c063-23f8-4e95-b992-cd26014bacaa",
   "metadata": {},
   "outputs": [],
   "source": [
    "def func4():\n",
    "    x=input()\n",
    "    y=input()\n",
    "    def func5():\n",
    "        return x+\" \"+y\n",
    "    z=func5()+\" \"+\"developer\"\n",
    "    return z\n",
    "        "
   ]
  },
  {
   "cell_type": "code",
   "execution_count": 86,
   "id": "27b3216e-b77b-4347-9c0e-e5d558f57a9c",
   "metadata": {},
   "outputs": [
    {
     "name": "stdin",
     "output_type": "stream",
     "text": [
      " emma\n",
      " kelly\n"
     ]
    },
    {
     "data": {
      "text/plain": [
       "'emma kelly developer'"
      ]
     },
     "execution_count": 86,
     "metadata": {},
     "output_type": "execute_result"
    }
   ],
   "source": [
    "func4()"
   ]
  },
  {
   "cell_type": "code",
   "execution_count": null,
   "id": "4768ce2c-7874-44c7-86ef-b0c3397c4bcc",
   "metadata": {},
   "outputs": [],
   "source": [
    "34.Program to Get Data Items From a List Appearing Odd Number of Times"
   ]
  },
  {
   "cell_type": "code",
   "execution_count": 1,
   "id": "ffd9cb44-6efc-4507-809e-efd1b502b08c",
   "metadata": {},
   "outputs": [
    {
     "name": "stdout",
     "output_type": "stream",
     "text": [
      "mango\n",
      "guava\n",
      "pineapple\n"
     ]
    }
   ],
   "source": [
    "l=[\"apple\",\"mango\",\"orange\",\"guava\",\"grape\",\"pineapple\"]\n",
    "\n",
    "for i in range(len(l)):\n",
    "    if i%2 !=0:\n",
    "        print(l[i])"
   ]
  },
  {
   "cell_type": "code",
   "execution_count": null,
   "id": "8663baaa-d07c-45d1-bb0b-761bc6fab802",
   "metadata": {},
   "outputs": [],
   "source": [
    "36. remove items from a list while iterating but without creating a different copy of a list.\n",
    "Remove numbers greater than 50\n",
    "number_list = [10, 20, 30, 40, 50, 60, 70, 80, 90, 100]\n",
    "Expected Output: [10, 20, 30, 40, 50]"
   ]
  },
  {
   "cell_type": "code",
   "execution_count": 5,
   "id": "63ba1256-7d81-4049-a3cf-cf5ed2a7bcc6",
   "metadata": {},
   "outputs": [
    {
     "name": "stdout",
     "output_type": "stream",
     "text": [
      "[10, 20, 30, 40, 50]\n"
     ]
    }
   ],
   "source": [
    "number_list = [10, 20, 30, 40, 50, 60, 70, 80, 90, 100]\n",
    "xpected=list()\n",
    "for i in number_list:\n",
    "    if i<=50:\n",
    "        xpected.append(i)\n",
    "print(xpected)"
   ]
  },
  {
   "cell_type": "code",
   "execution_count": null,
   "id": "06d630f0-8b67-409e-916e-83acd05b53b7",
   "metadata": {},
   "outputs": [],
   "source": [
    "37.  Display all duplicate items from a list\n",
    "sample_list = [10, 20, 60, 30, 20, 40, 30, 60, 70, 80]\n",
    "Expected Output: [20, 60, 30]"
   ]
  },
  {
   "cell_type": "code",
   "execution_count": 11,
   "id": "a7e521b1-d4d8-4e5b-b340-e406f7bbc6bf",
   "metadata": {},
   "outputs": [
    {
     "name": "stdout",
     "output_type": "stream",
     "text": [
      "[20, 60, 30]\n"
     ]
    }
   ],
   "source": [
    "sample_list = [10, 20, 60, 30, 20, 40, 30, 60, 70, 80]\n",
    "a=list()\n",
    "for i in sample_list:\n",
    "    if sample_list.count(i)>=2:\n",
    "        a.append(i)\n",
    "print(list(set(a)))"
   ]
  },
  {
   "cell_type": "code",
   "execution_count": null,
   "id": "ca7d169b-fd48-47cd-9e47-0b5b6923b65b",
   "metadata": {},
   "outputs": [],
   "source": [
    "39. Modify the element of a nested list inside the following list\n",
    "Change the element 35 to 3500\n",
    "list1 = [5, [10, 15, [20, 25, [30, 35], 40], 45], 50]"
   ]
  },
  {
   "cell_type": "code",
   "execution_count": 18,
   "id": "0eb5489e-ffd9-43fd-8ca7-9433f40b128d",
   "metadata": {},
   "outputs": [
    {
     "name": "stdout",
     "output_type": "stream",
     "text": [
      "[5, [10, 15, [20, 25, [30, 3500], 40], 45], 50]\n"
     ]
    }
   ],
   "source": [
    "list1 = [5, [10, 15, [20, 25, [30, 35], 40], 45], 50]\n",
    "\n",
    "list1[1][2][2][1]=3500\n",
    "print(list1)"
   ]
  },
  {
   "cell_type": "code",
   "execution_count": null,
   "id": "b2985c1a-cc7f-43e3-b0a6-e46e5c40b086",
   "metadata": {},
   "outputs": [],
   "source": [
    "42. Print characters from a string that are present at an even index number\n",
    "Write a program to accept a string from the user and display characters that are present at an even index number.\n",
    "\n",
    "For example, str = \"ineuron\" so you should display ‘i’, ‘e’, ‘r’, ‘n’."
   ]
  },
  {
   "cell_type": "code",
   "execution_count": 19,
   "id": "d61f591d-2b8b-465b-b5c9-e2138462abdb",
   "metadata": {},
   "outputs": [
    {
     "name": "stdout",
     "output_type": "stream",
     "text": [
      "i\n",
      "e\n",
      "r\n",
      "n\n"
     ]
    }
   ],
   "source": [
    "string = \"ineuron\"\n",
    "\n",
    "for i in range(len(string)):\n",
    "    if i % 2==0:\n",
    "        print(string[i])"
   ]
  },
  {
   "cell_type": "code",
   "execution_count": null,
   "id": "8cb3099e-7090-4176-8d06-10f6f421ad43",
   "metadata": {},
   "outputs": [],
   "source": [
    "44. Remove duplicates from a list and create a tuple and find the minimum and maximum number\n",
    "sample_list = [87, 45, 41, 65, 94, 41, 99, 94]\n",
    "Expected Outcome:\n",
    "unique items [87, 45, 41, 65, 99]\n",
    "tuple (87, 45, 41, 65, 99)\n",
    "min: 41\n",
    "max: 99"
   ]
  },
  {
   "cell_type": "code",
   "execution_count": 22,
   "id": "30830f38-87f7-4d99-ad60-702ffb2ce7d6",
   "metadata": {},
   "outputs": [
    {
     "name": "stdout",
     "output_type": "stream",
     "text": [
      "[65, 99, 41, 45, 87, 94]\n",
      "(65, 99, 41, 45, 87, 94)\n",
      "41\n",
      "99\n"
     ]
    }
   ],
   "source": [
    "sample_list = [87, 45, 41, 65, 94, 41, 99, 94]\n",
    "\n",
    "unique_items=list(set(sample_list))\n",
    "a=tuple(unique_items)\n",
    "tuple1=sorted(a)\n",
    "minimum=tuple1[0]\n",
    "maximum=tuple1[-1]\n",
    "\n",
    "print(unique_items)\n",
    "print(a)\n",
    "print(minimum)\n",
    "print(maximum)"
   ]
  },
  {
   "cell_type": "code",
   "execution_count": null,
   "id": "afec5e7c-3719-422e-9774-28d6376675eb",
   "metadata": {},
   "outputs": [],
   "source": [
    "45. Write a Python program to create a lambda function that adds 15 to a given number passed in as an argument,\n",
    "also create a lambda function\n",
    "that multiplies argument x with argument y and print the result."
   ]
  },
  {
   "cell_type": "code",
   "execution_count": 24,
   "id": "e6d99420-993f-4c43-ad07-654f53c40100",
   "metadata": {},
   "outputs": [],
   "source": [
    "a=lambda x: x+15\n",
    "b=lambda x,y: x*y"
   ]
  },
  {
   "cell_type": "code",
   "execution_count": 25,
   "id": "ac05afbd-dec9-405d-a461-97dde7bea033",
   "metadata": {},
   "outputs": [
    {
     "data": {
      "text/plain": [
       "20"
      ]
     },
     "execution_count": 25,
     "metadata": {},
     "output_type": "execute_result"
    }
   ],
   "source": [
    "a(5)"
   ]
  },
  {
   "cell_type": "code",
   "execution_count": 26,
   "id": "5ffad0de-2a1f-4f64-8a47-534743f5f979",
   "metadata": {},
   "outputs": [
    {
     "data": {
      "text/plain": [
       "200"
      ]
     },
     "execution_count": 26,
     "metadata": {},
     "output_type": "execute_result"
    }
   ],
   "source": [
    "b(10,20)"
   ]
  },
  {
   "cell_type": "code",
   "execution_count": null,
   "id": "754bbb16-7b68-4211-9e7e-149215e94a99",
   "metadata": {},
   "outputs": [],
   "source": [
    "46. Write a Python program to sort a list of tuples using Lambda."
   ]
  },
  {
   "cell_type": "code",
   "execution_count": 27,
   "id": "3b0376ae-8a67-4984-beb3-e68b92b33dc4",
   "metadata": {},
   "outputs": [],
   "source": [
    "c=lambda x: sorted(x)"
   ]
  },
  {
   "cell_type": "code",
   "execution_count": 35,
   "id": "c0d76baf-3c33-4660-b2cc-b8d085cb1ab2",
   "metadata": {},
   "outputs": [
    {
     "name": "stdout",
     "output_type": "stream",
     "text": [
      "[(6, 4, 2), (7, 1, 3), (13, 3, 5)]\n"
     ]
    }
   ],
   "source": [
    "b=[(13,3,5),(6,4,2),(7,1,3)]\n",
    "b=c(b)\n",
    "print(b)"
   ]
  },
  {
   "cell_type": "code",
   "execution_count": null,
   "id": "5af0b0de-4c13-4f6c-9c27-81a73959cc28",
   "metadata": {},
   "outputs": [],
   "source": [
    "48. Write a Python program to count the even, odd numbers in a given array of integers using Lambda."
   ]
  },
  {
   "cell_type": "code",
   "execution_count": 39,
   "id": "930843d5-6206-4793-8e0e-954fb8d581f6",
   "metadata": {},
   "outputs": [
    {
     "name": "stdout",
     "output_type": "stream",
     "text": [
      "26\n",
      "25\n"
     ]
    }
   ],
   "source": [
    "l=list(range(0,51))\n",
    "\n",
    "count_even=0\n",
    "count_odd=0\n",
    "\n",
    "for i in range(0,51):\n",
    "    if i %2==0:\n",
    "        count_even=count_even+1\n",
    "    else:\n",
    "        count_odd=count_odd+1\n",
    "        \n",
    "print(count_even)\n",
    "print(count_odd)"
   ]
  },
  {
   "cell_type": "code",
   "execution_count": 40,
   "id": "85926c0a-afc9-47ec-8e03-2e5f92c91e3b",
   "metadata": {},
   "outputs": [
    {
     "name": "stdout",
     "output_type": "stream",
     "text": [
      "26\n",
      "25\n"
     ]
    }
   ],
   "source": [
    "a=len(list(filter(lambda x: x%2==0,l)))\n",
    "b=len(list(filter(lambda x: x%2!=0,l)))\n",
    "\n",
    "print(a)\n",
    "print(b)"
   ]
  },
  {
   "cell_type": "code",
   "execution_count": null,
   "id": "fe41a186-6f3f-49a8-8bed-2b1cf5314d76",
   "metadata": {},
   "outputs": [],
   "source": [
    "50.  Write a Python program to square the elements of a list using map() function."
   ]
  },
  {
   "cell_type": "code",
   "execution_count": 44,
   "id": "accb2ee9-63ff-453f-9fee-dd4508376285",
   "metadata": {},
   "outputs": [
    {
     "data": {
      "text/plain": [
       "[0,\n",
       " 1,\n",
       " 4,\n",
       " 9,\n",
       " 16,\n",
       " 25,\n",
       " 36,\n",
       " 49,\n",
       " 64,\n",
       " 81,\n",
       " 100,\n",
       " 121,\n",
       " 144,\n",
       " 169,\n",
       " 196,\n",
       " 225,\n",
       " 256,\n",
       " 289,\n",
       " 324,\n",
       " 361,\n",
       " 400,\n",
       " 441,\n",
       " 484,\n",
       " 529,\n",
       " 576,\n",
       " 625,\n",
       " 676,\n",
       " 729,\n",
       " 784,\n",
       " 841,\n",
       " 900,\n",
       " 961,\n",
       " 1024,\n",
       " 1089,\n",
       " 1156,\n",
       " 1225,\n",
       " 1296,\n",
       " 1369,\n",
       " 1444,\n",
       " 1521,\n",
       " 1600,\n",
       " 1681,\n",
       " 1764,\n",
       " 1849,\n",
       " 1936,\n",
       " 2025,\n",
       " 2116,\n",
       " 2209,\n",
       " 2304,\n",
       " 2401,\n",
       " 2500]"
      ]
     },
     "execution_count": 44,
     "metadata": {},
     "output_type": "execute_result"
    }
   ],
   "source": [
    "list(map(lambda x:x **2,l))\n"
   ]
  },
  {
   "cell_type": "code",
   "execution_count": null,
   "id": "8a534cd6-820c-4bdd-99ea-b0e0c0b740af",
   "metadata": {},
   "outputs": [],
   "source": [
    "41. Print the sum of the current number and the previous number\n",
    "Write a program to iterate the first 10 numbers and in each iteration, print the sum of the current and previous number.\n",
    "Printing current and previous number sum in a range(10)\n",
    "Current Number 0 Previous Number  0  Sum:  0\n",
    "Current Number 1 Previous Number  0  Sum:  1\n",
    "Current Number 2 Previous Number  1  Sum:  3\n",
    "Current Number 3 Previous Number  2  Sum:  5\n",
    "Current Number 4 Previous Number  3  Sum:  7\n",
    "Current Number 5 Previous Number  4  Sum:  9\n",
    "Current Number 6 Previous Number  5  Sum:  11\n",
    "Current Number 7 Previous Number  6  Sum:  13\n",
    "Current Number 8 Previous Number  7  Sum:  15\n",
    "Current Number 9 Previous Number  8  Sum:  17"
   ]
  },
  {
   "cell_type": "code",
   "execution_count": 20,
   "id": "b28e0f3d-c6b7-4b7a-8981-ad1527af2e93",
   "metadata": {},
   "outputs": [
    {
     "name": "stdout",
     "output_type": "stream",
     "text": [
      "current number 0 previous number0 sum : 0\n",
      "current number 1 previous number0 sum : 1\n",
      "current number 2 previous number1 sum : 3\n",
      "current number 3 previous number2 sum : 5\n",
      "current number 4 previous number3 sum : 7\n",
      "current number 5 previous number4 sum : 9\n",
      "current number 6 previous number5 sum : 11\n",
      "current number 7 previous number6 sum : 13\n",
      "current number 8 previous number7 sum : 15\n",
      "current number 9 previous number8 sum : 17\n"
     ]
    }
   ],
   "source": [
    "\n",
    "a=0\n",
    "for i in range(10):\n",
    "    \n",
    "    b=a+i\n",
    "    print(f\"current number {i} previous number{a} sum : {b}\")\n",
    "    a=i\n",
    "    "
   ]
  },
  {
   "cell_type": "code",
   "execution_count": null,
   "id": "67ec056c-285c-42e3-b1e1-05172e62418b",
   "metadata": {},
   "outputs": [],
   "source": [
    "43. Print multiplication table form 1 to 10\n",
    "1  2 3 4 5 6 7 8 9 10 \t\t\n",
    "2  4 6 8 10 12 14 16 18 20 \t\t\n",
    "3  6 9 12 15 18 21 24 27 30 \t\t\n",
    "4  8 12 16 20 24 28 32 36 40 \t\t\n",
    "5  10 15 20 25 30 35 40 45 50 \t\t\n",
    "6  12 18 24 30 36 42 48 54 60 \t\t\n",
    "7  14 21 28 35 42 49 56 63 70 \t\t\n",
    "8  16 24 32 40 48 56 64 72 80 \t\t\n",
    "9  18 27 36 45 54 63 72 81 90 \t\t\n",
    "10 20 30 40 50 60 70 80 90 100 "
   ]
  },
  {
   "cell_type": "code",
   "execution_count": 24,
   "id": "47ec871d-0c95-4a39-8553-1c870e900dab",
   "metadata": {},
   "outputs": [
    {
     "name": "stdout",
     "output_type": "stream",
     "text": [
      "1 2 3 4 5 6 7 8 9 10  \n",
      "2 4 6 8 10 12 14 16 18 20  \n",
      "3 6 9 12 15 18 21 24 27 30  \n",
      "4 8 12 16 20 24 28 32 36 40  \n",
      "5 10 15 20 25 30 35 40 45 50  \n",
      "6 12 18 24 30 36 42 48 54 60  \n",
      "7 14 21 28 35 42 49 56 63 70  \n",
      "8 16 24 32 40 48 56 64 72 80  \n",
      "9 18 27 36 45 54 63 72 81 90  \n",
      "10 20 30 40 50 60 70 80 90 100  \n"
     ]
    }
   ],
   "source": [
    "for i in range(1,11):\n",
    "    for j in range(1,11):\n",
    "        print(i*j ,end=\" \")\n",
    "    print(\" \")"
   ]
  },
  {
   "cell_type": "code",
   "execution_count": null,
   "id": "ad473828-e9e5-4c99-ad22-78892a85f6c4",
   "metadata": {},
   "outputs": [],
   "source": [
    "40.  Access the nested key increment from the following dictionary\n",
    "Access 12\n",
    "emp_dict = {\n",
    "    \"company\": {\n",
    "        \"employee\": {\n",
    "            \"name\": \"Jess\",\n",
    "            \"payable\": {\n",
    "                \"salary\": 9000,\n",
    "                \"increment\": 12\n",
    "            }\n",
    "        }\n",
    "    }\n",
    "}"
   ]
  },
  {
   "cell_type": "code",
   "execution_count": 25,
   "id": "5c4b6ce4-3705-4d4a-a7d2-0a998ff8f475",
   "metadata": {},
   "outputs": [],
   "source": [
    "emp_dict = {\n",
    "    \"company\": {\"employee\": {\"name\": \"Jess\",\"payable\": {\"salary\": 9000,\"increment\": 12\n",
    "            }\n",
    "        }\n",
    "    }\n",
    "}"
   ]
  },
  {
   "cell_type": "code",
   "execution_count": 39,
   "id": "f0195919-2002-4dba-9bcc-ff8b8f8e2ef6",
   "metadata": {},
   "outputs": [
    {
     "data": {
      "text/plain": [
       "12"
      ]
     },
     "execution_count": 39,
     "metadata": {},
     "output_type": "execute_result"
    }
   ],
   "source": [
    "emp_dict[\"company\"][\"employee\"][\"payable\"][\"increment\"]"
   ]
  },
  {
   "cell_type": "code",
   "execution_count": null,
   "id": "0a84d5e9-ea66-4543-a9a9-41d42c0e3f6d",
   "metadata": {},
   "outputs": [],
   "source": [
    "32. In a portal login website, you are asked to write a function get_password_strength to decide \n",
    "the strength of a password. The strength is decided based on the total score of the password, Use \n",
    "following conditions:\n",
    "1) If password has length greater than 7 then score increases by one point.\n",
    "2) If password has at least one upper case and one lower case alphabets score increases by one point.\n",
    "3) If password has at least one number and no consecutive numbers like 12 or 234 then score \n",
    "increases by one point.\n",
    "4) If password has at least one special character (any character other than numbers and alphabets) then \n",
    "score increases by one point.\n",
    "5) If password contains username, then it is invalid password.\n",
    "If the password has score of four points, three points, two points, or one point then print Very \n",
    "Strong, Strong, Moderate, or Weak respectively. If the password is invalid, then \n",
    "print PASSWORD SHOULD NOT CONTAIN USERNAME and If the score is zero, then print Use a \n",
    "different password.The arguments to the function are username and password which are \n",
    "already defined"
   ]
  },
  {
   "cell_type": "code",
   "execution_count": null,
   "id": "31637a51-203c-49ca-a447-9e428beb7813",
   "metadata": {},
   "outputs": [],
   "source": [
    "password=input()\n",
    "name=input()\n",
    "score=0\n",
    "\n",
    "if len(password)>7:\n",
    "    score=score+1\n",
    "for i in password:\n",
    "    if i.isupper() or i.islower():\n",
    "        score=score+1\n",
    "count=0\n",
    "for i in password:\n",
    "    if i.isdigit() and int(i)*2 not in password:\n",
    "        score=score+1\n",
    "    if i.isalnum()==False:\n",
    "        count=count+1\n",
    "        if count>=1:\n",
    "            score=score+1\n",
    "if name in password:\n",
    "    print(\"invalid password\")\n",
    "if score==4:\n",
    "    print(\"Very Very Strong\")\n",
    "if score==\n",
    "    "
   ]
  },
  {
   "cell_type": "code",
   "execution_count": null,
   "id": "4b925e54-96bf-422d-b234-35a420fb6f08",
   "metadata": {},
   "outputs": [],
   "source": [
    "a=\"123@s3h2a#\"\n",
    "b=sorted(a)\n",
    "c=set(b)\n",
    "\n",
    "\n",
    "for i in c:\n",
    "    if i in \"1234567890\":\n",
    "        print(\"True\")\n",
    "    else:\n",
    "        print(False)\n",
    "\n"
   ]
  },
  {
   "cell_type": "code",
   "execution_count": null,
   "id": "25bb05bf-059b-4328-a907-65216dfbb78c",
   "metadata": {},
   "outputs": [],
   "source": []
  }
 ],
 "metadata": {
  "kernelspec": {
   "display_name": "Python 3 (ipykernel)",
   "language": "python",
   "name": "python3"
  },
  "language_info": {
   "codemirror_mode": {
    "name": "ipython",
    "version": 3
   },
   "file_extension": ".py",
   "mimetype": "text/x-python",
   "name": "python",
   "nbconvert_exporter": "python",
   "pygments_lexer": "ipython3",
   "version": "3.10.6"
  }
 },
 "nbformat": 4,
 "nbformat_minor": 5
}
