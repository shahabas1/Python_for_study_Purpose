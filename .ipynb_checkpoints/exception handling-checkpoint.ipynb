{
 "cells": [
  {
   "cell_type": "code",
   "execution_count": 2,
   "id": "773228da-08a2-4353-b8da-2e3a3f06e719",
   "metadata": {},
   "outputs": [
    {
     "name": "stdout",
     "output_type": "stream",
     "text": [
      "['ArithmeticError', 'AssertionError', 'AttributeError', 'BaseException', 'BlockingIOError', 'BrokenPipeError', 'BufferError', 'BytesWarning', 'ChildProcessError', 'ConnectionAbortedError', 'ConnectionError', 'ConnectionRefusedError', 'ConnectionResetError', 'DeprecationWarning', 'EOFError', 'Ellipsis', 'EncodingWarning', 'EnvironmentError', 'Exception', 'False', 'FileExistsError', 'FileNotFoundError', 'FloatingPointError', 'FutureWarning', 'GeneratorExit', 'IOError', 'ImportError', 'ImportWarning', 'IndentationError', 'IndexError', 'InterruptedError', 'IsADirectoryError', 'KeyError', 'KeyboardInterrupt', 'LookupError', 'MemoryError', 'ModuleNotFoundError', 'NameError', 'None', 'NotADirectoryError', 'NotImplemented', 'NotImplementedError', 'OSError', 'OverflowError', 'PendingDeprecationWarning', 'PermissionError', 'ProcessLookupError', 'RecursionError', 'ReferenceError', 'ResourceWarning', 'RuntimeError', 'RuntimeWarning', 'StopAsyncIteration', 'StopIteration', 'SyntaxError', 'SyntaxWarning', 'SystemError', 'SystemExit', 'TabError', 'TimeoutError', 'True', 'TypeError', 'UnboundLocalError', 'UnicodeDecodeError', 'UnicodeEncodeError', 'UnicodeError', 'UnicodeTranslateError', 'UnicodeWarning', 'UserWarning', 'ValueError', 'Warning', 'ZeroDivisionError', '__IPYTHON__', '__build_class__', '__debug__', '__doc__', '__import__', '__loader__', '__name__', '__package__', '__spec__', 'abs', 'aiter', 'all', 'anext', 'any', 'ascii', 'bin', 'bool', 'breakpoint', 'bytearray', 'bytes', 'callable', 'chr', 'classmethod', 'compile', 'complex', 'copyright', 'credits', 'delattr', 'dict', 'dir', 'display', 'divmod', 'enumerate', 'eval', 'exec', 'execfile', 'filter', 'float', 'format', 'frozenset', 'get_ipython', 'getattr', 'globals', 'hasattr', 'hash', 'help', 'hex', 'id', 'input', 'int', 'isinstance', 'issubclass', 'iter', 'len', 'license', 'list', 'locals', 'map', 'max', 'memoryview', 'min', 'next', 'object', 'oct', 'open', 'ord', 'pow', 'print', 'property', 'range', 'repr', 'reversed', 'round', 'runfile', 'set', 'setattr', 'slice', 'sorted', 'staticmethod', 'str', 'sum', 'super', 'tuple', 'type', 'vars', 'zip']\n"
     ]
    }
   ],
   "source": [
    "print(dir(locals()['__builtins__']))"
   ]
  },
  {
   "cell_type": "code",
   "execution_count": null,
   "id": "494fabe7-45f0-4aaf-84a0-4c6aa742abde",
   "metadata": {},
   "outputs": [],
   "source": []
  },
  {
   "cell_type": "code",
   "execution_count": 5,
   "id": "2370de5d-592e-4ee5-b3be-6e4e2c376cd0",
   "metadata": {},
   "outputs": [
    {
     "ename": "AssertionError",
     "evalue": "error",
     "output_type": "error",
     "traceback": [
      "\u001b[0;31m---------------------------------------------------------------------------\u001b[0m",
      "\u001b[0;31mAssertionError\u001b[0m                            Traceback (most recent call last)",
      "Cell \u001b[0;32mIn [5], line 3\u001b[0m\n\u001b[1;32m      1\u001b[0m x\u001b[38;5;241m=\u001b[39m\u001b[38;5;241m1\u001b[39m\n\u001b[1;32m      2\u001b[0m y\u001b[38;5;241m=\u001b[39m\u001b[38;5;241m3\u001b[39m\n\u001b[0;32m----> 3\u001b[0m \u001b[38;5;28;01massert\u001b[39;00m y\u001b[38;5;241m!=\u001b[39m\u001b[38;5;241m3\u001b[39m,\u001b[38;5;124m\"\u001b[39m\u001b[38;5;124merror\u001b[39m\u001b[38;5;124m\"\u001b[39m\n\u001b[1;32m      4\u001b[0m \u001b[38;5;28mprint\u001b[39m(x\u001b[38;5;241m/\u001b[39my)\n",
      "\u001b[0;31mAssertionError\u001b[0m: error"
     ]
    }
   ],
   "source": [
    "x=1\n",
    "y=3\n",
    "assert y!=3,\"error\"\n",
    "print(x/y)"
   ]
  },
  {
   "cell_type": "code",
   "execution_count": 9,
   "id": "86cad2de-9f29-4e34-b3a1-5d11aa72ffb9",
   "metadata": {},
   "outputs": [
    {
     "name": "stdout",
     "output_type": "stream",
     "text": [
      "you cant divide with zero, give another number \n"
     ]
    }
   ],
   "source": [
    "try:\n",
    "    a=10\n",
    "    b=0\n",
    "    c=a//b\n",
    "    print(c)\n",
    "except:\n",
    "    print(\"you cant divide with zero, give another number \")"
   ]
  },
  {
   "cell_type": "code",
   "execution_count": 10,
   "id": "81ba0944-304b-410f-b757-3247308461ca",
   "metadata": {},
   "outputs": [
    {
     "name": "stdout",
     "output_type": "stream",
     "text": [
      "1\n",
      "2\n",
      "3\n",
      "4\n",
      "5\n",
      "6\n",
      "7\n",
      "8\n",
      "list index out of range\n",
      "out of range\n"
     ]
    }
   ],
   "source": [
    "a=[1,2,3,4,5,6,7,8]\n",
    "try:\n",
    "    for i in range(len(a)+1):\n",
    "        print(a[i])\n",
    "except Exception as e:\n",
    "    print(e)\n",
    "    print(\"out of range\")"
   ]
  },
  {
   "cell_type": "code",
   "execution_count": 16,
   "id": "a75c4b77-a09b-4303-81fc-83b61fe258a6",
   "metadata": {},
   "outputs": [
    {
     "name": "stdout",
     "output_type": "stream",
     "text": [
      "the next item is  a\n",
      "oops <class 'ValueError'> occured\n",
      "next entry\n",
      "the next item is  0\n",
      "oops <class 'ZeroDivisionError'> occured\n",
      "next entry\n",
      "the next item is  2\n",
      "the reciprocal of  2 is  0.5\n"
     ]
    }
   ],
   "source": [
    "import sys\n",
    "r=['a',0,2,4]\n",
    "\n",
    "for i in r:\n",
    "    try:\n",
    "        print(\"the next item is \",i)\n",
    "        b=1/int(i)\n",
    "        break\n",
    "    except:\n",
    "        print(\"oops\",sys.exc_info()[0],\"occured\")\n",
    "        print(\"next entry\")\n",
    "print(\"the reciprocal of \",i,\"is \",b)       "
   ]
  },
  {
   "cell_type": "code",
   "execution_count": 18,
   "id": "f1331c41-7f88-48fe-9bc6-ce533f320247",
   "metadata": {},
   "outputs": [
    {
     "name": "stdin",
     "output_type": "stream",
     "text": [
      " 8\n"
     ]
    },
    {
     "name": "stdout",
     "output_type": "stream",
     "text": [
      "0.125\n"
     ]
    }
   ],
   "source": [
    "try:\n",
    "    a=int(input())\n",
    "    assert a%2==0\n",
    "except:\n",
    "    print(\"try with even number\")\n",
    "else:\n",
    "    reci=1/a\n",
    "    print(reci)"
   ]
  },
  {
   "cell_type": "code",
   "execution_count": null,
   "id": "97712549-7ad7-434e-8596-51bc7e0d4e0e",
   "metadata": {},
   "outputs": [],
   "source": [
    "def divide(x,y):\n",
    "    try:\n",
    "        print(x/y)\n",
    "    except ZeroDivisionError as e:\n",
    "            print(e)\n",
    "    else:\n",
    "        print(\"from else block\")\n",
    "    finally:\n",
    "        print(\"from finally\")"
   ]
  },
  {
   "cell_type": "code",
   "execution_count": 2,
   "id": "2e497c59-b92d-4a5b-b24c-b5b1a9974219",
   "metadata": {},
   "outputs": [
    {
     "name": "stdout",
     "output_type": "stream",
     "text": [
      "outer try block\n",
      "nested try block\n",
      "outer except blocl\n",
      "division by zero\n"
     ]
    }
   ],
   "source": [
    "x=10\n",
    "y=0\n",
    "\n",
    "try:\n",
    "    print(\"outer try block\")\n",
    "    try:\n",
    "        print(\"nested try block\")\n",
    "        print(x/y)\n",
    "    except TypeError as te:\n",
    "        print(\"nested except block\")\n",
    "        print(te)\n",
    "except ZeroDivisionError as ze:\n",
    "    print(\"outer except blocl\")\n",
    "    print(ze)"
   ]
  },
  {
   "cell_type": "code",
   "execution_count": null,
   "id": "83de436a-6035-4996-9cc4-8211837e8485",
   "metadata": {},
   "outputs": [],
   "source": [
    "def func1():\n",
    "    flag=True\n",
    "    while flag:\n",
    "        try:\n",
    "            a=int(input(\"enter the integres\"))\n",
    "            if type(a)==int:\n",
    "                return \"yes , you have entrted an integrer\"\n",
    "            flag=False\n",
    "        except Exception as e:\n",
    "            print(\"you did not entered an integer, please enter an integer\",e)"
   ]
  },
  {
   "cell_type": "code",
   "execution_count": 1,
   "id": "f3da36a2-5610-4bf1-97ac-f74e429b2596",
   "metadata": {},
   "outputs": [
    {
     "name": "stdout",
     "output_type": "stream",
     "text": [
      "there is issue with my code\n",
      "(4, 5, 6, 7, 8, 9)\n",
      "hi\n",
      "[4, 5, 6, 7, 8, 9]\n"
     ]
    }
   ],
   "source": [
    "try:\n",
    "    l=[4,5,6,7,8,9]\n",
    "    l[100]\n",
    "except:\n",
    "    print(\"there is issue with my code\")\n",
    "    t=(4,5,6,7,8,9)\n",
    "    print(t)\n",
    "    try:\n",
    "        print(\"hi\")\n",
    "        #t[0]=\"imran\"\n",
    "        try:\n",
    "            k=list(t)\n",
    "            print(k)\n",
    "        except:\n",
    "            pass\n",
    "    except:\n",
    "        pass\n",
    "else:\n",
    "    print(\"there is no issue with code\")"
   ]
  },
  {
   "cell_type": "code",
   "execution_count": null,
   "id": "0fa07e31-fd47-4510-b4b1-eef9c59fadb6",
   "metadata": {},
   "outputs": [],
   "source": []
  },
  {
   "cell_type": "code",
   "execution_count": null,
   "id": "bab11d2a-0c11-48c8-9c8b-852aabad1b30",
   "metadata": {},
   "outputs": [],
   "source": []
  }
 ],
 "metadata": {
  "kernelspec": {
   "display_name": "Python 3 (ipykernel)",
   "language": "python",
   "name": "python3"
  },
  "language_info": {
   "codemirror_mode": {
    "name": "ipython",
    "version": 3
   },
   "file_extension": ".py",
   "mimetype": "text/x-python",
   "name": "python",
   "nbconvert_exporter": "python",
   "pygments_lexer": "ipython3",
   "version": "3.10.6"
  }
 },
 "nbformat": 4,
 "nbformat_minor": 5
}
