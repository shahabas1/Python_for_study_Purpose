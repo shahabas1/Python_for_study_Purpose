{
 "cells": [
  {
   "cell_type": "code",
   "execution_count": 1,
   "id": "ba9301c4-2dfc-4f95-8332-2b4d36929865",
   "metadata": {},
   "outputs": [],
   "source": [
    "import os\n",
    "import time\n",
    "from functools import reduce"
   ]
  },
  {
   "cell_type": "code",
   "execution_count": 2,
   "id": "6daddb68-7a9d-494c-be23-e1a9a7e159a4",
   "metadata": {},
   "outputs": [
    {
     "data": {
      "text/plain": [
       "'/home/jovyan/work'"
      ]
     },
     "execution_count": 2,
     "metadata": {},
     "output_type": "execute_result"
    }
   ],
   "source": [
    "os.getcwd()"
   ]
  },
  {
   "cell_type": "code",
   "execution_count": 3,
   "id": "70fc8fcf-6131-4193-a7de-071ed79bf5f1",
   "metadata": {},
   "outputs": [
    {
     "data": {
      "text/plain": [
       "['README.md',\n",
       " 'sample-code.ipynb',\n",
       " '.git',\n",
       " 'function1.ipynb',\n",
       " 'Untitled.ipynb',\n",
       " '.ipynb_checkpoints']"
      ]
     },
     "execution_count": 3,
     "metadata": {},
     "output_type": "execute_result"
    }
   ],
   "source": [
    "os.listdir()"
   ]
  },
  {
   "cell_type": "code",
   "execution_count": 63,
   "id": "911ccf04-6ae8-45df-ba90-2f29d0177644",
   "metadata": {},
   "outputs": [],
   "source": [
    "def test1(func):\n",
    "    def test2():\n",
    "        print(\"Only for testting\")\n",
    "       \n",
    "        print(func())\n",
    "        print(\"functino executed \")\n",
    "        return func()\n",
    "    return test2"
   ]
  },
  {
   "cell_type": "code",
   "execution_count": 64,
   "id": "e9454a6e-b8a3-4015-b11b-04416a6c5c6a",
   "metadata": {},
   "outputs": [],
   "source": [
    "@test1\n",
    "def test3():\n",
    "    return 7+8"
   ]
  },
  {
   "cell_type": "code",
   "execution_count": 65,
   "id": "8149575f-1e26-49ba-9853-33a4553c9303",
   "metadata": {},
   "outputs": [
    {
     "name": "stdout",
     "output_type": "stream",
     "text": [
      "Only for testting\n",
      "15\n",
      "functino executed \n"
     ]
    },
    {
     "data": {
      "text/plain": [
       "15"
      ]
     },
     "execution_count": 65,
     "metadata": {},
     "output_type": "execute_result"
    }
   ],
   "source": [
    "test3()"
   ]
  },
  {
   "cell_type": "code",
   "execution_count": 66,
   "id": "ca6ae985-a372-4368-a3b3-ab3d90511eec",
   "metadata": {},
   "outputs": [],
   "source": [
    "@test1\n",
    "def test4():\n",
    "    #print(\"hi this is me\")\n",
    "    return 8+2"
   ]
  },
  {
   "cell_type": "code",
   "execution_count": 67,
   "id": "f4e6fd55-d416-43df-9954-53fb94df03f7",
   "metadata": {},
   "outputs": [
    {
     "name": "stdout",
     "output_type": "stream",
     "text": [
      "Only for testting\n",
      "10\n",
      "functino executed \n"
     ]
    },
    {
     "data": {
      "text/plain": [
       "10"
      ]
     },
     "execution_count": 67,
     "metadata": {},
     "output_type": "execute_result"
    }
   ],
   "source": [
    "test4()"
   ]
  },
  {
   "cell_type": "code",
   "execution_count": 81,
   "id": "6d952bf5-e128-47f7-b001-9f9beaaac22f",
   "metadata": {},
   "outputs": [],
   "source": [
    "def test5(func):\n",
    "    def test6(*args,**kwargs):\n",
    "        #func(*args,**kwargs)\n",
    "        print(\"Testing\")\n",
    "        #print(func(*args,**kwargs))\n",
    "        print(\"hi this is me \")\n",
    "        return func(*args,**kwargs)\n",
    "    return test6"
   ]
  },
  {
   "cell_type": "code",
   "execution_count": 82,
   "id": "2eeac0c8-027b-434c-b5db-3419e4bcdacf",
   "metadata": {},
   "outputs": [],
   "source": [
    "@test5\n",
    "\n",
    "def test7(a,b):\n",
    "    return a+b"
   ]
  },
  {
   "cell_type": "code",
   "execution_count": 83,
   "id": "57c271bb-7fdf-49d3-9c88-388a29560c6e",
   "metadata": {},
   "outputs": [
    {
     "name": "stdout",
     "output_type": "stream",
     "text": [
      "Testing\n",
      "hi this is me \n"
     ]
    },
    {
     "data": {
      "text/plain": [
       "10"
      ]
     },
     "execution_count": 83,
     "metadata": {},
     "output_type": "execute_result"
    }
   ],
   "source": [
    "test7(3,7)"
   ]
  },
  {
   "cell_type": "code",
   "execution_count": 86,
   "id": "8366feb1-f34c-46f8-9b57-f4dcfaab59e9",
   "metadata": {},
   "outputs": [],
   "source": [
    "@test5\n",
    "\n",
    "def test8(**kwargs):\n",
    "    return kwargs"
   ]
  },
  {
   "cell_type": "code",
   "execution_count": 87,
   "id": "9f0fc88f-7325-493a-814a-90884052fa0f",
   "metadata": {},
   "outputs": [
    {
     "name": "stdout",
     "output_type": "stream",
     "text": [
      "Testing\n",
      "hi this is me \n"
     ]
    },
    {
     "data": {
      "text/plain": [
       "{'a': 23, 'b': 56}"
      ]
     },
     "execution_count": 87,
     "metadata": {},
     "output_type": "execute_result"
    }
   ],
   "source": [
    "test8(a=23,b=56)"
   ]
  },
  {
   "cell_type": "code",
   "execution_count": 88,
   "id": "b204be37-a780-4c9f-93c5-d7072e630fdc",
   "metadata": {},
   "outputs": [],
   "source": [
    "a=lambda a,b:a+b"
   ]
  },
  {
   "cell_type": "code",
   "execution_count": 89,
   "id": "d2e73669-23dc-4d88-87aa-0b24f60b77aa",
   "metadata": {},
   "outputs": [
    {
     "data": {
      "text/plain": [
       "5"
      ]
     },
     "execution_count": 89,
     "metadata": {},
     "output_type": "execute_result"
    }
   ],
   "source": [
    "a(2,3)"
   ]
  },
  {
   "cell_type": "code",
   "execution_count": 90,
   "id": "979b3dbd-a62f-4500-81ec-0aca8450f243",
   "metadata": {},
   "outputs": [],
   "source": [
    "a=list(range(8))"
   ]
  },
  {
   "cell_type": "code",
   "execution_count": 91,
   "id": "808fec1b-d048-46fe-9542-74ca70243361",
   "metadata": {},
   "outputs": [],
   "source": [
    "b=lambda b : b+10"
   ]
  },
  {
   "cell_type": "code",
   "execution_count": 92,
   "id": "9141f818-9096-40c5-a625-312853438ed7",
   "metadata": {},
   "outputs": [
    {
     "data": {
      "text/plain": [
       "[10, 11, 12, 13, 14, 15, 16, 17]"
      ]
     },
     "execution_count": 92,
     "metadata": {},
     "output_type": "execute_result"
    }
   ],
   "source": [
    "list(map(b,a))"
   ]
  },
  {
   "cell_type": "code",
   "execution_count": 93,
   "id": "5ac8dd8f-c640-4cb6-9bce-a982427c45be",
   "metadata": {},
   "outputs": [],
   "source": [
    "l=[\"shah\",\"bas\",\"Gerr\"]\n"
   ]
  },
  {
   "cell_type": "code",
   "execution_count": 94,
   "id": "f39b414d-ba9a-4fd2-a957-ac0baf9ec817",
   "metadata": {},
   "outputs": [
    {
     "data": {
      "text/plain": [
       "['SHAH', 'BAS', 'GERR']"
      ]
     },
     "execution_count": 94,
     "metadata": {},
     "output_type": "execute_result"
    }
   ],
   "source": [
    "list(map(str.upper,l))"
   ]
  },
  {
   "cell_type": "code",
   "execution_count": 98,
   "id": "dcf60d0b-7762-42a1-9235-ca73f9bb708d",
   "metadata": {},
   "outputs": [],
   "source": [
    "d=list(range(8))"
   ]
  },
  {
   "cell_type": "code",
   "execution_count": 104,
   "id": "c66fa8ad-4542-412c-8a12-186182160301",
   "metadata": {},
   "outputs": [],
   "source": [
    "def test11(a):\n",
    "    l1=list()\n",
    "    for i in a:\n",
    "        if i%2==0:\n",
    "            l1.append(i)\n",
    "    return l1\n",
    "    "
   ]
  },
  {
   "cell_type": "code",
   "execution_count": 106,
   "id": "49e4c3ae-85d7-4020-8d2e-16488cbf3406",
   "metadata": {},
   "outputs": [
    {
     "data": {
      "text/plain": [
       "[0, 2, 4, 6]"
      ]
     },
     "execution_count": 106,
     "metadata": {},
     "output_type": "execute_result"
    }
   ],
   "source": [
    "test11(d)"
   ]
  },
  {
   "cell_type": "code",
   "execution_count": 107,
   "id": "c6dc6ece-a815-4435-9f2b-f18935747b58",
   "metadata": {},
   "outputs": [],
   "source": [
    "a= lambda a : a if a%2==0 else None"
   ]
  },
  {
   "cell_type": "code",
   "execution_count": 108,
   "id": "135b9bbd-1639-4e36-8885-b13ad9caff04",
   "metadata": {},
   "outputs": [
    {
     "data": {
      "text/plain": [
       "[2, 4, 6]"
      ]
     },
     "execution_count": 108,
     "metadata": {},
     "output_type": "execute_result"
    }
   ],
   "source": [
    "list(filter(a,l))"
   ]
  },
  {
   "cell_type": "code",
   "execution_count": 109,
   "id": "3ba71b9d-5f8e-46c7-884f-2cf365fcee75",
   "metadata": {},
   "outputs": [],
   "source": [
    "from functools import reduce"
   ]
  },
  {
   "cell_type": "code",
   "execution_count": 110,
   "id": "ce063c96-3c70-4de2-be6c-c907fa8a3610",
   "metadata": {},
   "outputs": [],
   "source": [
    "a=lambda a,b :a*b"
   ]
  },
  {
   "cell_type": "code",
   "execution_count": 115,
   "id": "55585c98-873f-4219-a262-aaff87f055c3",
   "metadata": {},
   "outputs": [],
   "source": [
    "b=list(range(1,8))"
   ]
  },
  {
   "cell_type": "code",
   "execution_count": 116,
   "id": "7c71422c-522e-404c-b57d-75277a0126a9",
   "metadata": {},
   "outputs": [
    {
     "data": {
      "text/plain": [
       "5040"
      ]
     },
     "execution_count": 116,
     "metadata": {},
     "output_type": "execute_result"
    }
   ],
   "source": [
    "reduce(a,b)"
   ]
  },
  {
   "cell_type": "code",
   "execution_count": 112,
   "id": "4f1e2b7e-7107-4eee-a8e4-c3bdbf296862",
   "metadata": {},
   "outputs": [
    {
     "data": {
      "text/plain": [
       "[0, 1, 2, 3, 4, 5, 6, 7]"
      ]
     },
     "execution_count": 112,
     "metadata": {},
     "output_type": "execute_result"
    }
   ],
   "source": [
    "l"
   ]
  },
  {
   "cell_type": "code",
   "execution_count": 114,
   "id": "30dce545-8acb-4b8f-896e-45571d90fb79",
   "metadata": {},
   "outputs": [
    {
     "data": {
      "text/plain": [
       "[0, 2, 4, 6]"
      ]
     },
     "execution_count": 114,
     "metadata": {},
     "output_type": "execute_result"
    }
   ],
   "source": [
    "l1"
   ]
  },
  {
   "cell_type": "code",
   "execution_count": 117,
   "id": "7b3ba6ad-9a1f-4cbc-a21c-4ff34ba2a8bf",
   "metadata": {},
   "outputs": [],
   "source": [
    "def adder(x):\n",
    "    def create_adder(y,z):\n",
    "        return x+y+z\n",
    "    return create_adder"
   ]
  },
  {
   "cell_type": "code",
   "execution_count": 119,
   "id": "fa397e08-462c-4852-87a0-b11eea8e9150",
   "metadata": {},
   "outputs": [],
   "source": [
    "d=adder(10)"
   ]
  },
  {
   "cell_type": "code",
   "execution_count": 120,
   "id": "0a3106a8-4e92-4d19-93b7-fa3555850cad",
   "metadata": {},
   "outputs": [
    {
     "data": {
      "text/plain": [
       "60"
      ]
     },
     "execution_count": 120,
     "metadata": {},
     "output_type": "execute_result"
    }
   ],
   "source": [
    "d(20,30)"
   ]
  },
  {
   "cell_type": "code",
   "execution_count": 122,
   "id": "fc1588ed-6ed9-469e-a520-9be716543089",
   "metadata": {},
   "outputs": [],
   "source": [
    "def func(a, b, c): \n",
    "    a = 2 \n",
    "    print(a)\n",
    "    \n",
    "    b[0] = 'x' \n",
    "    print(b)\n",
    "    c['a'] = 'y'\n",
    "    print(c)"
   ]
  },
  {
   "cell_type": "code",
   "execution_count": 123,
   "id": "3bb7e2da-4627-410b-bed5-f0a91c93f79d",
   "metadata": {},
   "outputs": [],
   "source": [
    "l=1\n",
    "m=[2,3]\n",
    "n={'b':5}"
   ]
  },
  {
   "cell_type": "code",
   "execution_count": 124,
   "id": "c9da9788-b44b-499b-854f-4b1deca6b868",
   "metadata": {},
   "outputs": [
    {
     "name": "stdout",
     "output_type": "stream",
     "text": [
      "2\n",
      "['x', 3]\n",
      "{'b': 5, 'a': 'y'}\n"
     ]
    }
   ],
   "source": [
    "func(l,m,n)"
   ]
  },
  {
   "cell_type": "code",
   "execution_count": 1,
   "id": "9a68e836-e5b9-4ba2-ac3f-d71e8e14ee66",
   "metadata": {},
   "outputs": [
    {
     "data": {
      "text/plain": [
       "'3.10.6 | packaged by conda-forge | (main, Aug 22 2022, 20:35:26) [GCC 10.4.0]'"
      ]
     },
     "execution_count": 1,
     "metadata": {},
     "output_type": "execute_result"
    }
   ],
   "source": [
    "import sys\n",
    "sys.version"
   ]
  },
  {
   "cell_type": "code",
   "execution_count": 2,
   "id": "6856c174-9178-4c4f-a163-b81f5e8401fd",
   "metadata": {},
   "outputs": [
    {
     "ename": "NameError",
     "evalue": "name 'whoami' is not defined",
     "output_type": "error",
     "traceback": [
      "\u001b[0;31m---------------------------------------------------------------------------\u001b[0m",
      "\u001b[0;31mNameError\u001b[0m                                 Traceback (most recent call last)",
      "Cell \u001b[0;32mIn [2], line 1\u001b[0m\n\u001b[0;32m----> 1\u001b[0m \u001b[43mwhoami\u001b[49m\n",
      "\u001b[0;31mNameError\u001b[0m: name 'whoami' is not defined"
     ]
    }
   ],
   "source": []
  },
  {
   "cell_type": "code",
   "execution_count": 3,
   "id": "f02286db-3e01-4845-aa83-a775fe8a8267",
   "metadata": {},
   "outputs": [
    {
     "ename": "NameError",
     "evalue": "name 'python' is not defined",
     "output_type": "error",
     "traceback": [
      "\u001b[0;31m---------------------------------------------------------------------------\u001b[0m",
      "\u001b[0;31mNameError\u001b[0m                                 Traceback (most recent call last)",
      "Cell \u001b[0;32mIn [3], line 1\u001b[0m\n\u001b[0;32m----> 1\u001b[0m \u001b[43mpython\u001b[49m \u001b[38;5;241m-\u001b[39m\u001b[38;5;241m-\u001b[39mversion\n",
      "\u001b[0;31mNameError\u001b[0m: name 'python' is not defined"
     ]
    }
   ],
   "source": [
    "python --version"
   ]
  },
  {
   "cell_type": "code",
   "execution_count": null,
   "id": "060ec66d-2f9d-4534-8b8c-53b6a3d623f5",
   "metadata": {},
   "outputs": [],
   "source": []
  }
 ],
 "metadata": {
  "kernelspec": {
   "display_name": "Python 3 (ipykernel)",
   "language": "python",
   "name": "python3"
  },
  "language_info": {
   "codemirror_mode": {
    "name": "ipython",
    "version": 3
   },
   "file_extension": ".py",
   "mimetype": "text/x-python",
   "name": "python",
   "nbconvert_exporter": "python",
   "pygments_lexer": "ipython3",
   "version": "3.10.6"
  }
 },
 "nbformat": 4,
 "nbformat_minor": 5
}
