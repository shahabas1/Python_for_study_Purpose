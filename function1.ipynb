{
 "cells": [
  {
   "cell_type": "code",
   "execution_count": 1,
   "id": "bf57c24a-d603-40ad-bfe2-86d597a38445",
   "metadata": {},
   "outputs": [],
   "source": [
    "def test1(*args):\n",
    "    return args\n"
   ]
  },
  {
   "cell_type": "code",
   "execution_count": 4,
   "id": "24c27b5b-6711-4113-865b-0e2fd7d46463",
   "metadata": {},
   "outputs": [
    {
     "data": {
      "text/plain": [
       "(2, 3, 4, 'shahabas')"
      ]
     },
     "execution_count": 4,
     "metadata": {},
     "output_type": "execute_result"
    }
   ],
   "source": [
    "test1(2,3,4,\"shahabas\")"
   ]
  },
  {
   "cell_type": "code",
   "execution_count": 1,
   "id": "07761456-65ca-4aab-b223-380e8d3119ce",
   "metadata": {},
   "outputs": [],
   "source": [
    "def test2(*args):\n",
    "    return list(args)"
   ]
  },
  {
   "cell_type": "code",
   "execution_count": 2,
   "id": "25e82de3-9548-4748-be20-97dd3dfa4ea7",
   "metadata": {},
   "outputs": [
    {
     "data": {
      "text/plain": [
       "[1, 2, 34, 'shahahbas']"
      ]
     },
     "execution_count": 2,
     "metadata": {},
     "output_type": "execute_result"
    }
   ],
   "source": [
    "test2(1,2,34,\"shahahbas\")"
   ]
  },
  {
   "cell_type": "code",
   "execution_count": 5,
   "id": "a0108f24-971c-4a78-ab3c-9150236d38b8",
   "metadata": {},
   "outputs": [],
   "source": [
    "def test5(*args):\n",
    "    l=list()\n",
    "    for i in args:\n",
    "        l.append(i)\n",
    "    return l"
   ]
  },
  {
   "cell_type": "code",
   "execution_count": 6,
   "id": "0fff4250-8af5-4728-933f-2ffb23078948",
   "metadata": {},
   "outputs": [
    {
     "data": {
      "text/plain": [
       "[1, 45, 67, 78, 'ineuron']"
      ]
     },
     "execution_count": 6,
     "metadata": {},
     "output_type": "execute_result"
    }
   ],
   "source": [
    "test5(1,45,67,78,\"ineuron\")"
   ]
  },
  {
   "cell_type": "code",
   "execution_count": 7,
   "id": "fb696827-48bd-4d96-ba77-dcf56be156c8",
   "metadata": {},
   "outputs": [],
   "source": [
    "d1={\"key1\":\"shahabas\",\"key2\":8129917078,\"key3\":\"Chennai\"}"
   ]
  },
  {
   "cell_type": "code",
   "execution_count": 8,
   "id": "1c2bc382-d35a-4408-a4f0-38a60a188252",
   "metadata": {},
   "outputs": [
    {
     "data": {
      "text/plain": [
       "dict_keys(['key1', 'key2', 'key3'])"
      ]
     },
     "execution_count": 8,
     "metadata": {},
     "output_type": "execute_result"
    }
   ],
   "source": [
    "d1.keys()"
   ]
  },
  {
   "cell_type": "code",
   "execution_count": 9,
   "id": "84e1e477-8e5c-4b09-9f59-bf441bd12964",
   "metadata": {},
   "outputs": [
    {
     "data": {
      "text/plain": [
       "['key1', 'key2', 'key3']"
      ]
     },
     "execution_count": 9,
     "metadata": {},
     "output_type": "execute_result"
    }
   ],
   "source": [
    "list(d1.keys())"
   ]
  },
  {
   "cell_type": "code",
   "execution_count": 10,
   "id": "81aecd23-f61c-410e-acba-64f4ee2d4125",
   "metadata": {},
   "outputs": [
    {
     "data": {
      "text/plain": [
       "['shahabas', 8129917078, 'Chennai']"
      ]
     },
     "execution_count": 10,
     "metadata": {},
     "output_type": "execute_result"
    }
   ],
   "source": [
    "list(d1.values())"
   ]
  },
  {
   "cell_type": "code",
   "execution_count": 11,
   "id": "443dd85c-2a8d-48ac-8cb7-4ed588516346",
   "metadata": {},
   "outputs": [
    {
     "data": {
      "text/plain": [
       "dict_items([('key1', 'shahabas'), ('key2', 8129917078), ('key3', 'Chennai')])"
      ]
     },
     "execution_count": 11,
     "metadata": {},
     "output_type": "execute_result"
    }
   ],
   "source": [
    "d1.items()"
   ]
  },
  {
   "cell_type": "code",
   "execution_count": 12,
   "id": "247bccc6-3fd8-4075-a429-0530faecfd1d",
   "metadata": {},
   "outputs": [
    {
     "data": {
      "text/plain": [
       "[('key1', 'shahabas'), ('key2', 8129917078), ('key3', 'Chennai')]"
      ]
     },
     "execution_count": 12,
     "metadata": {},
     "output_type": "execute_result"
    }
   ],
   "source": [
    "list(d1.items())"
   ]
  },
  {
   "cell_type": "code",
   "execution_count": 13,
   "id": "df84f62f-a551-41f6-8394-0e858bf3706e",
   "metadata": {},
   "outputs": [],
   "source": [
    "d1[\"key4\"]=\"Implementation\""
   ]
  },
  {
   "cell_type": "code",
   "execution_count": 14,
   "id": "26452b1f-40c4-4113-9e7a-8c6b5a95671a",
   "metadata": {},
   "outputs": [
    {
     "data": {
      "text/plain": [
       "{'key1': 'shahabas',\n",
       " 'key2': 8129917078,\n",
       " 'key3': 'Chennai',\n",
       " 'key4': 'Implementation'}"
      ]
     },
     "execution_count": 14,
     "metadata": {},
     "output_type": "execute_result"
    }
   ],
   "source": [
    "d1"
   ]
  },
  {
   "cell_type": "code",
   "execution_count": 15,
   "id": "95dd7ec9-d1bf-4676-9e25-e043adf1d032",
   "metadata": {},
   "outputs": [
    {
     "data": {
      "text/plain": [
       "'Implementation'"
      ]
     },
     "execution_count": 15,
     "metadata": {},
     "output_type": "execute_result"
    }
   ],
   "source": [
    "d1[\"key4\"]"
   ]
  },
  {
   "cell_type": "code",
   "execution_count": 16,
   "id": "ab559273-53bf-4af2-b7c6-7f86b014eb91",
   "metadata": {},
   "outputs": [],
   "source": [
    "def test6(**kwargs):\n",
    "    return kwargs"
   ]
  },
  {
   "cell_type": "code",
   "execution_count": 17,
   "id": "c5da32ac-586f-426e-8f1a-b5e8b25e6a39",
   "metadata": {},
   "outputs": [
    {
     "data": {
      "text/plain": [
       "{'a': 2, 'b': 45, 'v': 56}"
      ]
     },
     "execution_count": 17,
     "metadata": {},
     "output_type": "execute_result"
    }
   ],
   "source": [
    "test6(a=2,b=45,v=56)"
   ]
  },
  {
   "cell_type": "code",
   "execution_count": 13,
   "id": "10434f29-8a60-4f81-aec6-1b132e55e462",
   "metadata": {},
   "outputs": [],
   "source": [
    "def test7(a):\n",
    "    return a\n",
    "def test8(*sha):\n",
    "    return \"shahabas\"\n",
    "def test9(func):\n",
    "    return func(\"shaha\")"
   ]
  },
  {
   "cell_type": "code",
   "execution_count": 3,
   "id": "fc8529e1-eff1-4bc0-a7e2-835206a61411",
   "metadata": {},
   "outputs": [
    {
     "data": {
      "text/plain": [
       "'shaha'"
      ]
     },
     "execution_count": 3,
     "metadata": {},
     "output_type": "execute_result"
    }
   ],
   "source": [
    "test9(test7)"
   ]
  },
  {
   "cell_type": "code",
   "execution_count": 5,
   "id": "772476f4-4542-45e6-91d5-754090a949a1",
   "metadata": {},
   "outputs": [
    {
     "ename": "TypeError",
     "evalue": "'str' object is not callable",
     "output_type": "error",
     "traceback": [
      "\u001b[0;31m---------------------------------------------------------------------------\u001b[0m",
      "\u001b[0;31mTypeError\u001b[0m                                 Traceback (most recent call last)",
      "Cell \u001b[0;32mIn [5], line 1\u001b[0m\n\u001b[0;32m----> 1\u001b[0m \u001b[43mtest9\u001b[49m\u001b[43m(\u001b[49m\u001b[43mtest7\u001b[49m\u001b[43m(\u001b[49m\u001b[38;5;124;43m\"\u001b[39;49m\u001b[38;5;124;43mbas\u001b[39;49m\u001b[38;5;124;43m\"\u001b[39;49m\u001b[43m)\u001b[49m\u001b[43m)\u001b[49m\n",
      "Cell \u001b[0;32mIn [2], line 6\u001b[0m, in \u001b[0;36mtest9\u001b[0;34m(func)\u001b[0m\n\u001b[1;32m      5\u001b[0m \u001b[38;5;28;01mdef\u001b[39;00m \u001b[38;5;21mtest9\u001b[39m(func):\n\u001b[0;32m----> 6\u001b[0m     \u001b[38;5;28;01mreturn\u001b[39;00m \u001b[43mfunc\u001b[49m\u001b[43m(\u001b[49m\u001b[38;5;124;43m\"\u001b[39;49m\u001b[38;5;124;43mshaha\u001b[39;49m\u001b[38;5;124;43m\"\u001b[39;49m\u001b[43m)\u001b[49m\n",
      "\u001b[0;31mTypeError\u001b[0m: 'str' object is not callable"
     ]
    }
   ],
   "source": [
    "test9(test7(\"bas\"))"
   ]
  },
  {
   "cell_type": "code",
   "execution_count": 9,
   "id": "42dab935-7573-40b7-8dc2-015b96afe454",
   "metadata": {},
   "outputs": [
    {
     "data": {
      "text/plain": [
       "('shaha',)"
      ]
     },
     "execution_count": 9,
     "metadata": {},
     "output_type": "execute_result"
    }
   ],
   "source": [
    "test9(test8)"
   ]
  },
  {
   "cell_type": "code",
   "execution_count": 34,
   "id": "bc081918-5277-4c09-b68f-cac86b9c3f58",
   "metadata": {},
   "outputs": [],
   "source": [
    "def test10(func):\n",
    "    def test11():\n",
    "        print(\"this is test 11 which is inside test10\")\n",
    "        start=time.time()\n",
    "        end=time.time()\n",
    "        diff=end-start\n",
    "        print(diff)\n",
    "        func()\n",
    "    return test11()\n",
    "    "
   ]
  },
  {
   "cell_type": "code",
   "execution_count": 28,
   "id": "763835ec-a6c9-4ee3-b4ce-c626f9a2fdf4",
   "metadata": {},
   "outputs": [
    {
     "name": "stdout",
     "output_type": "stream",
     "text": [
      "this is test 11 which is inside test10\n"
     ]
    }
   ],
   "source": [
    "test10(test8)"
   ]
  },
  {
   "cell_type": "code",
   "execution_count": 25,
   "id": "dcd20246-fa7c-439d-932b-5d82fd90599f",
   "metadata": {},
   "outputs": [],
   "source": [
    "def test12(*args):\n",
    "    print(\"hi this is me\")"
   ]
  },
  {
   "cell_type": "code",
   "execution_count": 26,
   "id": "218e0f1c-176b-4ccd-80be-0872115d0149",
   "metadata": {},
   "outputs": [
    {
     "name": "stdout",
     "output_type": "stream",
     "text": [
      "this is test 11 which is inside test10\n",
      "hi this is me\n"
     ]
    }
   ],
   "source": [
    "test10(test12)"
   ]
  },
  {
   "cell_type": "code",
   "execution_count": 17,
   "id": "56f0017d-6a68-416b-b22d-0cc8820bd6f3",
   "metadata": {},
   "outputs": [],
   "source": [
    "def test18(func) : \n",
    "    def test19():\n",
    "        print(\"i am inside test19\") \n",
    "        func()\n",
    "    return test19()"
   ]
  },
  {
   "cell_type": "code",
   "execution_count": 18,
   "id": "2fd51a80-eafd-4cc3-8c5e-c041d1b2189e",
   "metadata": {},
   "outputs": [],
   "source": [
    "def test13(*args):\n",
    "    print(\"this is a return of test13\")"
   ]
  },
  {
   "cell_type": "code",
   "execution_count": 19,
   "id": "36c670a7-2d40-47d1-b0d6-f24ab6492ce5",
   "metadata": {},
   "outputs": [
    {
     "name": "stdout",
     "output_type": "stream",
     "text": [
      "i am inside test19\n",
      "this is a return of test13\n"
     ]
    }
   ],
   "source": [
    "test18(test13)"
   ]
  },
  {
   "cell_type": "code",
   "execution_count": 35,
   "id": "87dd6cd9-4a96-42bc-93be-b9b8482fed17",
   "metadata": {},
   "outputs": [
    {
     "name": "stdout",
     "output_type": "stream",
     "text": [
      "this is test 11 which is inside test10\n",
      "2.384185791015625e-07\n",
      "this is test20\n"
     ]
    }
   ],
   "source": [
    "@test10\n",
    "\n",
    "def test20():\n",
    "    print(\"this is test20\")"
   ]
  },
  {
   "cell_type": "code",
   "execution_count": 33,
   "id": "f82d0ace-7f36-4550-ae66-a725dfc7f7dc",
   "metadata": {},
   "outputs": [
    {
     "name": "stdout",
     "output_type": "stream",
     "text": [
      "2.765655517578125e-05\n"
     ]
    }
   ],
   "source": [
    "import time\n",
    "\n",
    "start=time.time()\n",
    "end=time.time()\n",
    "diff=end-start\n",
    "print(diff)"
   ]
  },
  {
   "cell_type": "code",
   "execution_count": 61,
   "id": "8368cd2c-8531-47ba-a8d1-296ec6d5eb1e",
   "metadata": {},
   "outputs": [],
   "source": [
    "def test12(func):\n",
    "    def test13():\n",
    "        \n",
    "        start=time.time()\n",
    "        end=time.time()\n",
    "        diff=end-start\n",
    "        print(diff)\n",
    "        \n",
    "        print(func())\n",
    "    return test13\n",
    "\n",
    "\n",
    "    \n",
    "@test12\n",
    "def test15():\n",
    "    l=list(range(10))\n",
    "    sum=0\n",
    "    for i in l:\n",
    "        sum=sum+i\n",
    "    return sum   "
   ]
  },
  {
   "cell_type": "code",
   "execution_count": 38,
   "id": "df91ebd3-8c81-4a52-ab64-fc2d9a087eb4",
   "metadata": {},
   "outputs": [],
   "source": [
    "l=list(range(10))"
   ]
  },
  {
   "cell_type": "code",
   "execution_count": 51,
   "id": "d8e35b64-6086-4ff6-a4aa-11f62e4ae7b8",
   "metadata": {},
   "outputs": [],
   "source": [
    "@test12\n",
    "def test15():\n",
    "    l=list(range(10))\n",
    "    sum=0\n",
    "    for i in l:\n",
    "        sum=sum+i\n",
    "    return sum"
   ]
  },
  {
   "cell_type": "code",
   "execution_count": 62,
   "id": "03a17236-1cd3-4f88-a9fb-725dfe204ab9",
   "metadata": {},
   "outputs": [
    {
     "name": "stdout",
     "output_type": "stream",
     "text": [
      "2.384185791015625e-07\n",
      "45\n"
     ]
    }
   ],
   "source": [
    "test15()"
   ]
  },
  {
   "cell_type": "code",
   "execution_count": 56,
   "id": "ff7acd3d-427b-42d4-ad47-6c05a11c9b19",
   "metadata": {},
   "outputs": [],
   "source": [
    "def test25(func) : \n",
    "    def test26():\n",
    "        print(\"this wil give you executation time of a function \") \n",
    "        start = time.time()\n",
    "        func()\n",
    "        print(func())\n",
    "        end = time.time()\n",
    "        print(end -start)\n",
    "    return  test26\n",
    "\n",
    "@test25\n",
    "def test27():\n",
    "    \"\"\"\n",
    "    this is a functin whichi will take a decorator for calculating a executation timeing of a functioin \n",
    "    \"\"\"\n",
    "    l = [4,5,6,7,8,8]\n",
    "    l1 = []\n",
    "    for i in l :\n",
    "        if type(i) == int :\n",
    "            l1.append(i)\n",
    "    return l1"
   ]
  },
  {
   "cell_type": "code",
   "execution_count": 57,
   "id": "379e26a6-d1e1-44d7-b6c5-f7d12307a513",
   "metadata": {},
   "outputs": [
    {
     "name": "stdout",
     "output_type": "stream",
     "text": [
      "this wil give you executation time of a function \n",
      "[4, 5, 6, 7, 8, 8]\n",
      "1.3589859008789062e-05\n"
     ]
    }
   ],
   "source": [
    "test27()"
   ]
  },
  {
   "cell_type": "code",
   "execution_count": 3,
   "id": "4fa6276c-1bb2-4201-aef9-0dbf0287ebc1",
   "metadata": {},
   "outputs": [
    {
     "data": {
      "text/plain": [
       "[4, 7]"
      ]
     },
     "execution_count": 3,
     "metadata": {},
     "output_type": "execute_result"
    }
   ],
   "source": [
    "list(map(len,l))"
   ]
  },
  {
   "cell_type": "code",
   "execution_count": 2,
   "id": "9931f505-65af-44c8-b47d-4032c0c6c659",
   "metadata": {},
   "outputs": [],
   "source": [
    "l=[\"asdf\",\"kijuhyt\"]"
   ]
  },
  {
   "cell_type": "code",
   "execution_count": 9,
   "id": "dfa8f75c-0b31-4f41-b516-ecca8f94d86c",
   "metadata": {},
   "outputs": [],
   "source": [
    "c=lambda x: x if x%2==0 else None"
   ]
  },
  {
   "cell_type": "code",
   "execution_count": 6,
   "id": "9e8c18f9-d2eb-4086-9ef9-449b1fac1dad",
   "metadata": {},
   "outputs": [],
   "source": [
    "l=list(range(9))"
   ]
  },
  {
   "cell_type": "code",
   "execution_count": 10,
   "id": "5f7114ca-fe4a-4abc-a7a0-f835bc7fa155",
   "metadata": {},
   "outputs": [
    {
     "data": {
      "text/plain": [
       "[0, None, 2, None, 4, None, 6, None, 8]"
      ]
     },
     "execution_count": 10,
     "metadata": {},
     "output_type": "execute_result"
    }
   ],
   "source": [
    "list(map(c,l))"
   ]
  },
  {
   "cell_type": "code",
   "execution_count": 11,
   "id": "1f6e461c-6718-41dc-a220-f757b10f758c",
   "metadata": {},
   "outputs": [
    {
     "data": {
      "text/plain": [
       "[2, 4, 6, 8]"
      ]
     },
     "execution_count": 11,
     "metadata": {},
     "output_type": "execute_result"
    }
   ],
   "source": [
    "list(filter(c,l))"
   ]
  },
  {
   "cell_type": "code",
   "execution_count": null,
   "id": "4006873c-0cae-488b-b863-2e33e9327407",
   "metadata": {},
   "outputs": [],
   "source": []
  }
 ],
 "metadata": {
  "kernelspec": {
   "display_name": "Python 3 (ipykernel)",
   "language": "python",
   "name": "python3"
  },
  "language_info": {
   "codemirror_mode": {
    "name": "ipython",
    "version": 3
   },
   "file_extension": ".py",
   "mimetype": "text/x-python",
   "name": "python",
   "nbconvert_exporter": "python",
   "pygments_lexer": "ipython3",
   "version": "3.10.6"
  }
 },
 "nbformat": 4,
 "nbformat_minor": 5
}
