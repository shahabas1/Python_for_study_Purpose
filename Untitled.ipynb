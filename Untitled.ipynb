{
 "cells": [
  {
   "cell_type": "code",
   "execution_count": null,
   "id": "a5facaa2",
   "metadata": {},
   "outputs": [],
   "source": [
    "q1 : Create your own class to perform a list search operation \n",
    "q2 : create a class for dict new element addition\n",
    "q3 : create a class for tuple data extraction operation\n",
    "q4 : Create a class to implement all insert , update , delete operation for mysql\n",
    "q5 : create a class to implement insert , uupdate and delete in monngo db \n",
    "q6 : create a class to perform append and delete operation in a file and inherit it in child class \n",
    "q7 : create a class to import a data into file from mongo db \n",
    "q8 : Create a class to build a calculator funcnalities addition , subtraction , multiplication ,div , log , exponenet , power \n",
    "q9 : create a class method to find a time and space complexity of any function\n",
    "q10: create a class to do a bulk uplaod of a file in mysql \n",
    "q11: give 10 different example of ploymorphism , encaptulation ,data  abstraction , overloading , ovverriding , multiple inheritance\n",
    "q12: Try to explore a meaning of \"-> \" this sinnature in python \n",
    "\n",
    "you have to complete this task before next saturday (21st of jan 2023) class and send it to me : sudhanshu@ineuron.ai with up and running code\n",
    "\n",
    "class timeinig for 21st and 22nd will be 10 AM IST , only for one week as i am traveling (sat and sun ) after that it will be \n",
    "same as per our regular schedule \n"
   ]
  },
  {
   "cell_type": "markdown",
   "id": "49f5d049",
   "metadata": {},
   "source": [
    "# 1.Create your own class to perform a list search operation "
   ]
  },
  {
   "cell_type": "code",
   "execution_count": 33,
   "id": "7c301f34",
   "metadata": {},
   "outputs": [],
   "source": [
    "df=['a',1,2,3,45,'d','f','g']"
   ]
  },
  {
   "cell_type": "code",
   "execution_count": 4,
   "id": "c3ca9470",
   "metadata": {},
   "outputs": [
    {
     "name": "stdout",
     "output_type": "stream",
     "text": [
      "4\n"
     ]
    }
   ],
   "source": [
    "for i in range(len(my_list)):\n",
    "    if my_list[i]==45:\n",
    "        print(i)"
   ]
  },
  {
   "cell_type": "code",
   "execution_count": 103,
   "id": "fe479008",
   "metadata": {},
   "outputs": [
    {
     "data": {
      "text/plain": [
       "'/home/jovyan/work/Python'"
      ]
     },
     "execution_count": 103,
     "metadata": {},
     "output_type": "execute_result"
    }
   ],
   "source": [
    "import os\n",
    "os.getcwd()"
   ]
  },
  {
   "cell_type": "code",
   "execution_count": 127,
   "id": "23059280",
   "metadata": {},
   "outputs": [],
   "source": [
    "path=\"/home/jovyan/work/Python/log_files/\"\n",
    "import logging\n",
    "logging.basicConfig(filename= path+\"search_log.txt\",level=logging.DEBUG,filemode='w',\n",
    "                   format=\"%(asctime)s %(levelname)s %(message)s\")\n",
    "\n",
    "\n",
    "\n",
    "class search:\n",
    "    \n",
    "    def __init__(self,my_list,search_term):\n",
    "        self.my_list=my_list\n",
    "        self.search_term=search_term\n",
    "    \n",
    "    def search_method(self):\n",
    "        flag=True\n",
    "        logging.info(\"Searching method is started\")\n",
    "        try:\n",
    "            logging.info(\"starting the loop\")\n",
    "            for i in range(len(self.my_list)):\n",
    "                \n",
    "                if self.my_list[i]==self.search_term:\n",
    "                    flag=False\n",
    "                    logging.info(\"founded the search item\")\n",
    "                    break\n",
    "                    \n",
    "                    \n",
    "            if flag==False:\n",
    "                logging.info(\"the value is in \"+str(i)+\"th position\")\n",
    "                return i\n",
    "            else:\n",
    "                logging.warning(\"search item not present in the list\")\n",
    "                return \"search item is not present in the list\"\n",
    "                \n",
    "        except Exception as e:\n",
    "            \n",
    "#             print(e)\n",
    "            logging.error(\"Error found\")\n",
    "            logging.error(e)"
   ]
  },
  {
   "cell_type": "code",
   "execution_count": 128,
   "id": "cddf4d2f",
   "metadata": {},
   "outputs": [],
   "source": [
    "a=search(df,1)"
   ]
  },
  {
   "cell_type": "code",
   "execution_count": 129,
   "id": "7ed9b4e8",
   "metadata": {
    "scrolled": true
   },
   "outputs": [
    {
     "data": {
      "text/plain": [
       "1"
      ]
     },
     "execution_count": 129,
     "metadata": {},
     "output_type": "execute_result"
    }
   ],
   "source": [
    "a.search_method()"
   ]
  },
  {
   "cell_type": "markdown",
   "id": "1f35fd6f-0014-40d9-be55-88308dd6c855",
   "metadata": {},
   "source": [
    "# 2.create a class for dict new element addition"
   ]
  },
  {
   "cell_type": "code",
   "execution_count": null,
   "id": "0500de00",
   "metadata": {},
   "outputs": [],
   "source": [
    "import logging\n",
    "path=\"/home/shahabas/Desktop/log_files/files_log\"\n",
    "\n",
    "logging.basicConfig(filename= path+\".txt\",level=logging.DEBUG,filemode='a',\n",
    "                   format=\"%(asctime)s %(levelname)s %(message)s\")\n",
    "\n",
    "\n",
    "class Dictionary:\n",
    "    \n",
    "    def __init__(self,dict1,key,value):\n",
    "        self.dict1=dict1\n",
    "        self.key=key\n",
    "        self.value=value\n",
    "    \n",
    "    \n",
    "    def element_addition(self):\n",
    "        logging.info(\":Accesing the dictionary\")\n",
    "        try:\n",
    "            logging.info(\":Adding the key value in the dictionary\")\n",
    "            self.dict1[self.key]=self.value\n",
    "            logging.info(\":Added the new element\")\n",
    "            logging.info(\":Done\")\n",
    "            return  my_dict\n",
    "\n",
    "        except Exception as e:\n",
    "            print(e)\n",
    "            logging.error(e)"
   ]
  },
  {
   "cell_type": "markdown",
   "id": "e3b074d4-07eb-4d0e-bc99-f52b715ebe9b",
   "metadata": {},
   "source": [
    "# 3.create a class for tuple data extraction operation"
   ]
  },
  {
   "cell_type": "code",
   "execution_count": null,
   "id": "52796e4a-7b4b-49cb-a25f-d6e059bf4250",
   "metadata": {},
   "outputs": [],
   "source": [
    "import logging\n",
    "path=\"/home/jovyan/work/Python/log_files/tuple_log\"\n",
    "\n",
    "logging.basicConfig(filename= path+\".txt\",level=logging.DEBUG,filemode='w',\n",
    "                   format=\"%(asctime)s %(levelname)s %(message)s\")\n",
    "\n",
    "\n",
    "\n",
    "class TuPle:\n",
    "    def __init__(self,li):\n",
    "        self._li=li\n",
    "    try:\n",
    "        logging.info(\"inside the try block\")\n",
    "        def one_element(self,a):\n",
    "            logging.info(\"acccessing the one element\")\n",
    "            return self.li[a]\n",
    "            logging.info(\"printing the data\")\n",
    "            logging.info(\"Done\")\n",
    "        def many_elements(self,a,b):\n",
    "            logging.info(\"acccessing the many element\")\n",
    "            return self.li[a:b]\n",
    "            logging.info(\"printing the data\")\n",
    "            logging.info(\"Done\")\n",
    "    except Exception as e:\n",
    "        print(e)\n",
    "        logging.error(\"Error found\")\n",
    "        logging.error(e)\n",
    "        "
   ]
  },
  {
   "cell_type": "markdown",
   "id": "aedb001e-84c6-45da-9f54-b4a66b8a058b",
   "metadata": {},
   "source": [
    "# 4.Create a class to implement all insert , update , delete operation for mysql"
   ]
  },
  {
   "cell_type": "code",
   "execution_count": null,
   "id": "38a65195-4b70-4f7b-9bf1-47206ca29426",
   "metadata": {},
   "outputs": [],
   "source": [
    "import mysql.connector\n",
    "class Sql:\n",
    "    \n",
    "    def__init__(self,host,user_name,password,database,table):\n",
    "        self.host=host\n",
    "        self.user_name=user_name\n",
    "        self.password=password\n",
    "        self.database=database\n",
    "        self.table=table\n",
    "    \n",
    "    def insert(self,*args):\n",
    "        sha=mysql.connector.connect(host=self.host,user=self.user_name,password=self.password)\n",
    "        print(sha.is_connected())\n",
    "        mycursor=sha.cursor()\n",
    "        mycursor.execute(\"use\"+str(self.database))\n",
    "        mycursor.execute(\"insert into\"+str(self.table)+\" values \"+ str(*args))\n",
    "        sha.commit()\n",
    "        return mycursor.execute (\"select * from \"+str(self.database)+\".\"+str(self.table))\n",
    "    \n",
    "    \n",
    "        \n",
    "        "
   ]
  }
 ],
 "metadata": {
  "kernelspec": {
   "display_name": "Python 3 (ipykernel)",
   "language": "python",
   "name": "python3"
  },
  "language_info": {
   "codemirror_mode": {
    "name": "ipython",
    "version": 3
   },
   "file_extension": ".py",
   "mimetype": "text/x-python",
   "name": "python",
   "nbconvert_exporter": "python",
   "pygments_lexer": "ipython3",
   "version": "3.10.6"
  }
 },
 "nbformat": 4,
 "nbformat_minor": 5
}
