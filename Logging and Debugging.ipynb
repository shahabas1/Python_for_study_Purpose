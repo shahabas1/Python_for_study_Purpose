{
 "cells": [
  {
   "cell_type": "code",
   "execution_count": 1,
   "id": "112405c7",
   "metadata": {},
   "outputs": [],
   "source": [
    "import logging\n",
    "\n",
    "logging.basicConfig(filename='test.log',level=logging.DEBUG)\n",
    "\n",
    "def add(x,y):\n",
    "    return x+y\n",
    "\n",
    "def subtract(x,y):\n",
    "    return x-y\n",
    "\n",
    "def multiply(x,y):\n",
    "    return x*y\n",
    "\n",
    "def divide(x,y):\n",
    "    return x/y\n",
    "\n",
    "\n",
    "num_1=20\n",
    "num_2=10\n",
    "\n",
    "add_result=add(num_1,num_2)\n",
    "logging.info(add_result)\n",
    "sub_result=subtract(num_1,num_2)\n",
    "logging.debug(sub_result)\n",
    "multiply_result=multiply(num_1,num_2)\n",
    "logging.warning(multiply_result)\n",
    "divide_result=divide(num_1,num_2)\n",
    "logging.critical(divide_result)"
   ]
  },
  {
   "cell_type": "code",
   "execution_count": 1,
   "id": "eec25074",
   "metadata": {},
   "outputs": [
    {
     "name": "stdout",
     "output_type": "stream",
     "text": [
      " 01-10-2022-class.ipynb                    funbction2.ipynb\r\n",
      " 08-10-2022.ipynb                          function1.ipynb\r\n",
      " 09-10-2022.ipynb                         'Function assignment.ipynb'\r\n",
      "'13th Nov(function continued (4)).ipynb'  'Logging and Debugging.ipynb'\r\n",
      " 24-09-2022.ipynb                          questions.ipynb\r\n",
      " 25-09-2022.ipynb                          shahabas\r\n",
      " 29-10-2022-Fuction.ipynb                  sring.ipynb\r\n",
      "'Control Statements.ipynb'                'task1 answer.ipynb'\r\n",
      " demo_006.ipynb                           'task questions part 2.ipynb'\r\n",
      " demo.log                                  test1.txt\r\n",
      "'exception handling.ipynb'                 test2.txt\r\n",
      "'file handling.ipynb'                      test.log\r\n"
     ]
    }
   ],
   "source": [
    "ls"
   ]
  },
  {
   "cell_type": "code",
   "execution_count": 1,
   "id": "b27cf57e",
   "metadata": {},
   "outputs": [
    {
     "name": "stdout",
     "output_type": "stream",
     "text": [
      "valid name\n"
     ]
    }
   ],
   "source": [
    "import logging\n",
    "\n",
    "logging.basicConfig(filename='demo.log',level=logging.DEBUG)\n",
    "\n",
    "def namecheck(name):\n",
    "    if len(name) < 2:\n",
    "        logging.debug('checking for name length')\n",
    "        return 'Invalid name'\n",
    "    elif name.isspace():\n",
    "        logging.debug('checking for name has space')\n",
    "        return 'Invalid name'\n",
    "    elif name.isalpha():\n",
    "        logging.debug('checking for name is alphabet')\n",
    "        return 'valid name'\n",
    "    elif name.replace(' ','').isalpha():\n",
    "        logging.debug('checking for full name')\n",
    "        return 'name is valid'\n",
    "    else:\n",
    "        logging.debug('Falied all checks')\n",
    "        return 'invalid name'\n",
    "\n",
    "\n",
    "\n",
    "result=namecheck('imran')\n",
    "print(result)"
   ]
  },
  {
   "cell_type": "code",
   "execution_count": 3,
   "id": "0e774940",
   "metadata": {},
   "outputs": [
    {
     "name": "stdout",
     "output_type": "stream",
     "text": [
      "valid name\n"
     ]
    }
   ],
   "source": [
    "import logging\n",
    "\n",
    "logging.basicConfig(filename='demo22.log',level=logging.DEBUG,format='%(asctime)s - %(levelname)s - %(message)s' )\n",
    "\n",
    "def namecheck(name):\n",
    "    if len(name) < 2:\n",
    "        logging.debug('checking for name length')\n",
    "        return 'Invalid name'\n",
    "    elif name.isspace():\n",
    "        logging.debug('checking for name has space')\n",
    "        return 'Invalid name'\n",
    "    elif name.isalpha():\n",
    "        logging.debug('checking for name is alphabet')\n",
    "        return 'valid name'\n",
    "    elif name.replace(' ','').isalpha():\n",
    "        logging.debug('checking for full name')\n",
    "        return 'name is valid'\n",
    "    else:\n",
    "        logging.debug('Falied all checks')\n",
    "        return 'invalid name'\n",
    "\n",
    "\n",
    "\n",
    "result=namecheck('imran')\n",
    "print(result)"
   ]
  },
  {
   "cell_type": "code",
   "execution_count": 4,
   "id": "2d2f1efb",
   "metadata": {},
   "outputs": [
    {
     "name": "stdout",
     "output_type": "stream",
     "text": [
      "3\n",
      "1\n",
      "2\n",
      "3\n"
     ]
    },
    {
     "data": {
      "text/plain": [
       "6"
      ]
     },
     "execution_count": 4,
     "metadata": {},
     "output_type": "execute_result"
    }
   ],
   "source": [
    "import logging\n",
    "\n",
    "logging.basicConfig(filename='sum.log',level=logging.DEBUG,format='%(asctime)s - %(levelname)s - %(message)s' )\n",
    "\n",
    "\n",
    "def sum_12(*args):\n",
    "    s=0\n",
    "    num=[]\n",
    "    n=int(input())\n",
    "    for i in range(n):\n",
    "        nu=int(input())\n",
    "        \n",
    "        num.append(nu)\n",
    "    for i in num:\n",
    "        logging.info(str(i))\n",
    "        s=s+i\n",
    "\n",
    "    return s\n",
    "\n",
    "\n",
    "sum_12()"
   ]
  },
  {
   "cell_type": "code",
   "execution_count": 6,
   "id": "0f745abf",
   "metadata": {},
   "outputs": [
    {
     "name": "stdout",
     "output_type": "stream",
     "text": [
      "2022-12-10 11:26:11,672 - INFO - 10\n",
      "2022-12-10 11:26:11,672 - INFO - 20\n",
      "2022-12-10 11:26:11,672 - INFO - 30\n",
      "2022-12-10 11:27:26,383 - INFO - 1\n",
      "2022-12-10 11:27:26,383 - INFO - 2\n",
      "2022-12-10 11:27:26,383 - INFO - 3\n",
      "\n"
     ]
    }
   ],
   "source": [
    "f=open(\"sum.log\",'r')\n",
    "print(f.read())"
   ]
  },
  {
   "cell_type": "code",
   "execution_count": 1,
   "id": "5b66a14f",
   "metadata": {},
   "outputs": [
    {
     "name": "stderr",
     "output_type": "stream",
     "text": [
      "__main__ - WARNING -this is a Warning\n",
      "__main__ - ERROR -This is error\n"
     ]
    }
   ],
   "source": [
    "import logging\n",
    "\n",
    "#create a custom logger\n",
    "logger=logging.getLogger(__name__)\n",
    "\n",
    "#create handlers\n",
    "c_handler=logging.StreamHandler()\n",
    "f_handler=logging.FileHandler('abc.log')\n",
    "c_handler.setLevel(logging.WARNING)\n",
    "f_handler.setLevel(logging.ERROR)\n",
    "\n",
    "#create formatters and add it to handler\n",
    "\n",
    "c_format=logging.Formatter('%(name)s - %(levelname)s -%(message)s')\n",
    "f_format=logging.Formatter('%(asctime)s - %(name)s - %(levelname)s -%(message)s')\n",
    "c_handler.setFormatter(c_format)\n",
    "f_handler.setFormatter(f_format)\n",
    "\n",
    "\n",
    "#Add Handler to the logger\n",
    "\n",
    "logger.addHandler(c_handler)\n",
    "logger.addHandler(f_handler)\n",
    "\n",
    "\n",
    "logger.warning('this is a Warning')\n",
    "logger.error('This is error')"
   ]
  },
  {
   "cell_type": "code",
   "execution_count": null,
   "id": "8897b8ba",
   "metadata": {},
   "outputs": [],
   "source": [
    "import logging\n",
    "\n",
    "logger=logging.getLogger(__name__)\n",
    "handler=logging.StreamHandler()\n",
    "\n",
    "formatter=logging.Formatter('%(asctime)s - %(name)s - %(levelname)s -%(message)s')\n",
    "\n",
    "handler.setFormatter(formatter)\n",
    "\n",
    "logger.addHandler(handler)\n",
    "logger.setLevel(logging.INFO)\n",
    "\n",
    "def divide(dividend,divisor):\n",
    "    try:\n",
    "        logger.info(f\"Diving {dividend} by {divisor}\")\n",
    "        return dividend/divisor\n",
    "    except ZeroDivisionError:\n",
    "        logger.info(\"zero divsion error\")\n",
    "        \n",
    "\n",
    "    \n",
    "print(divide(6,2))"
   ]
  }
 ],
 "metadata": {
  "kernelspec": {
   "display_name": "Python 3 (ipykernel)",
   "language": "python",
   "name": "python3"
  },
  "language_info": {
   "codemirror_mode": {
    "name": "ipython",
    "version": 3
   },
   "file_extension": ".py",
   "mimetype": "text/x-python",
   "name": "python",
   "nbconvert_exporter": "python",
   "pygments_lexer": "ipython3",
   "version": "3.10.6"
  }
 },
 "nbformat": 4,
 "nbformat_minor": 5
}
